{
 "cells": [
  {
   "cell_type": "code",
   "execution_count": null,
   "id": "0114a90c",
   "metadata": {},
   "outputs": [],
   "source": [
    "# [\"leo\", \"kiki\", \"eden\"]\t[\"eden\", \"kiki\"]\t\"leo\"\n",
    "# [\"marina\", \"josipa\", \"nikola\", \"vinko\", \"filipa\"]\t[\"josipa\", \"filipa\", \"marina\", \"nikola\"]\t\"vinko\"\n",
    "\n",
    "# [\"mislav\", \"stanko\", \"mislav\", \"ana\"]\t[\"stanko\", \"ana\", \"mislav\"]\t\"misl"
   ]
  },
  {
   "cell_type": "code",
   "execution_count": null,
   "id": "6a361af3",
   "metadata": {},
   "outputs": [],
   "source": [
    "from collections import Counter    \n",
    "\n",
    "def solution1(participant, completion):\n",
    "    print(participant.keys())\n",
    "    \n",
    "    return answer #list(Counter(participant)-Counter(completion)).pop()\n",
    "\n",
    "def solution2(participant, completion):\n",
    "    participant.sort()\n",
    "    completion.sort()\n",
    "    \n",
    "    for p,c in zip(participand, completion):\n",
    "        if(p!=c):\n",
    "            return p\n",
    "    return participant[-1]"
   ]
  },
  {
   "cell_type": "code",
   "execution_count": null,
   "id": "976103e9",
   "metadata": {},
   "outputs": [],
   "source": []
  },
  {
   "cell_type": "code",
   "execution_count": null,
   "id": "0eca240f",
   "metadata": {},
   "outputs": [],
   "source": []
  },
  {
   "cell_type": "code",
   "execution_count": null,
   "id": "6675c43a",
   "metadata": {},
   "outputs": [],
   "source": []
  }
 ],
 "metadata": {
  "kernelspec": {
   "display_name": "Python 3",
   "language": "python",
   "name": "python3"
  },
  "language_info": {
   "codemirror_mode": {
    "name": "ipython",
    "version": 3
   },
   "file_extension": ".py",
   "mimetype": "text/x-python",
   "name": "python",
   "nbconvert_exporter": "python",
   "pygments_lexer": "ipython3",
   "version": "3.8.8"
  }
 },
 "nbformat": 4,
 "nbformat_minor": 5
}
