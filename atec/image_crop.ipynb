{
 "cells": [
  {
   "cell_type": "code",
   "execution_count": 5,
   "id": "d14e4aab-d533-4adf-bdff-53d5aa7ba635",
   "metadata": {},
   "outputs": [],
   "source": [
    "import os"
   ]
  },
  {
   "cell_type": "code",
   "execution_count": 6,
   "id": "cdef7ec2-e70c-4ff4-af4f-33e70952400a",
   "metadata": {},
   "outputs": [
    {
     "name": "stdout",
     "output_type": "stream",
     "text": [
      "Transformed image saved at ../../data/transformed_image2.png\n"
     ]
    }
   ],
   "source": [
    "import cv2\n",
    "import numpy as np\n",
    "\n",
    "def transform_image_to_rectangle(image_path, src_points, output_size):\n",
    "    \"\"\"\n",
    "    Transforms a given image using 4 source points to a rectangular shape of the desired size.\n",
    "\n",
    "    :param image_path: Path to the input image.\n",
    "    :param src_points: List of 4 points (x, y) defining the region to transform.\n",
    "    :param output_size: Tuple (width, height) of the desired rectangular output size.\n",
    "    :return: Transformed image as a NumPy array.\n",
    "    \"\"\"\n",
    "    # Load the image\n",
    "    image = cv2.imread(image_path)\n",
    "    if image is None:\n",
    "        raise ValueError(\"Image not found at the specified path.\")\n",
    "\n",
    "    # Ensure the source points are in the correct format\n",
    "    if len(src_points) != 4:\n",
    "        raise ValueError(\"src_points must contain exactly 4 points (x, y).\")\n",
    "    src_points = np.float32(src_points)\n",
    "\n",
    "    # Define destination points for the desired rectangular output\n",
    "    width, height = output_size\n",
    "    dst_points = np.float32([\n",
    "        [0, 0],          # Top-left corner\n",
    "        [width - 1, 0],  # Top-right corner\n",
    "        [0, height - 1], # Bottom-left corner\n",
    "        [width - 1, height - 1]  # Bottom-right corner\n",
    "    ])\n",
    "\n",
    "    # Compute the perspective transformation matrix\n",
    "    transformation_matrix = cv2.getPerspectiveTransform(src_points, dst_points)\n",
    "\n",
    "    # Apply the perspective transformation\n",
    "    transformed_image = cv2.warpPerspective(image, transformation_matrix, (width, height))\n",
    "\n",
    "    return transformed_image\n",
    "\n",
    "# Example usage\n",
    "if __name__ == \"__main__\":\n",
    "    # Path to the input image\n",
    "    image_path = \"../../data/halo2.jpeg\"\n",
    "\n",
    "    # Define the 4 source points (manually or detected)\n",
    "    src_points = [\n",
    "        (523, 850),   # Top-left\n",
    "        (4109, 850),   # Top-right\n",
    "        (575, 2313),  # Bottom-left\n",
    "        (4038, 2359)   # Bottom-right\n",
    "    ]\n",
    "\n",
    "    # Desired output size (width, height)\n",
    "    output_size = (960, 400)\n",
    "\n",
    "    # Transform the image\n",
    "    try:\n",
    "        result = transform_image_to_rectangle(image_path, src_points, output_size)\n",
    "\n",
    "        # Save or display the result\n",
    "        output_path = \"../../data/transformed_image2.png\"\n",
    "        cv2.imwrite(output_path, result)\n",
    "        print(f\"Transformed image saved at {output_path}\")\n",
    "\n",
    "        # Optionally display the result\n",
    "        cv2.imshow(\"Transformed Image\", result)\n",
    "        cv2.waitKey(0)\n",
    "        cv2.destroyAllWindows()\n",
    "\n",
    "    except ValueError as e:\n",
    "        print(f\"Error: {e}\")\n"
   ]
  },
  {
   "cell_type": "code",
   "execution_count": null,
   "id": "cacd5b36-9165-48b3-b7ad-c17b7950bc62",
   "metadata": {},
   "outputs": [],
   "source": [
    "cv2.imshow(')"
   ]
  }
 ],
 "metadata": {
  "kernelspec": {
   "display_name": "Python 3 (ipykernel)",
   "language": "python",
   "name": "python3"
  },
  "language_info": {
   "codemirror_mode": {
    "name": "ipython",
    "version": 3
   },
   "file_extension": ".py",
   "mimetype": "text/x-python",
   "name": "python",
   "nbconvert_exporter": "python",
   "pygments_lexer": "ipython3",
   "version": "3.12.4"
  }
 },
 "nbformat": 4,
 "nbformat_minor": 5
}
