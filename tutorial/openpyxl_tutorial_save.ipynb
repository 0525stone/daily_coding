{
 "cells": [
  {
   "cell_type": "markdown",
   "id": "06d7f387",
   "metadata": {},
   "source": [
    "# 얼른 털자ㅏㅏㅏㅏㅏㅏㅏㅏ\n",
    "- https://www.geeksforgeeks.org/how-to-append-a-new-row-to-an-existing-csv-file/"
   ]
  },
  {
   "cell_type": "code",
   "execution_count": 3,
   "id": "619f078d",
   "metadata": {},
   "outputs": [],
   "source": [
    "import openpyxl\n",
    "import pandas as pd\n",
    "\n",
    "from csv import writer"
   ]
  },
  {
   "cell_type": "code",
   "execution_count": null,
   "id": "f3f6eb86",
   "metadata": {},
   "outputs": [],
   "source": [
    "\n",
    "# Import writer class from csv module\n",
    "from csv import writer\n",
    "  \n",
    "# List \n",
    "List=[6,'William',5532,1,'UAE']\n",
    "  \n",
    "# Open our existing CSV file in append mode\n",
    "# Create a file object for this file\n",
    "with open('event.csv', 'a') as f_object:\n",
    "  \n",
    "    # Pass this file object to csv.writer()\n",
    "    # and get a writer object\n",
    "    writer_object = writer(f_object)\n",
    "  \n",
    "    # Pass the list as an argument into\n",
    "    # the writerow()\n",
    "    writer_object.writerow(List)\n",
    "  \n",
    "    #Close the file object\n",
    "    f_object.close()"
   ]
  },
  {
   "cell_type": "code",
   "execution_count": null,
   "id": "fe16e13e",
   "metadata": {},
   "outputs": [],
   "source": []
  },
  {
   "cell_type": "code",
   "execution_count": 28,
   "id": "d56e43f2",
   "metadata": {},
   "outputs": [],
   "source": [
    "ex1 = {'2021.12.02':{'수소':['www.naver.com','www.google.com']}}\n",
    "ex2 = {'2022.01.20':{'산소':['0525stone@gmail.com','yunnamo@naver.com']}}\n",
    "\n",
    "\n",
    "name = 'test/test.csv'\n",
    "name2 = r'test/test.xlsx'\n",
    "\n",
    "df1 = pd.DataFrame(ex1)\n",
    "df2 = pd.DataFrame(ex2)\n",
    "\n",
    "writer = pd.ExcelWriter(name2, engine = 'xlsxwriter')\n",
    "# df1['2021.12.02'].to_excel(name2, sheet_name='first')\n",
    "# df2['2022.01.20'].to_excel(name2, sheet_name='second')\n",
    "df1.to_excel(writer, sheet_name='first')\n",
    "df2.to_excel(writer, sheet_name='second')\n",
    "writer.save()\n",
    "writer.close()\n",
    "\n",
    "# df = pd['sheet'].DataFrame(ex['2021.12.02'])\n",
    "# df.to_csv(name)\n"
   ]
  },
  {
   "cell_type": "code",
   "execution_count": 23,
   "id": "4f6c8d89",
   "metadata": {},
   "outputs": [],
   "source": [
    "import pandas as pd\n",
    "import numpy as np\n",
    "\n",
    "path = r\"test/PhD_data.xlsx\"\n",
    "\n",
    "x1 = np.random.randn(100, 2)\n",
    "df1 = pd.DataFrame(x1)\n",
    "\n",
    "x2 = np.random.randn(100, 2)\n",
    "df2 = pd.DataFrame(x2)\n",
    "\n",
    "writer = pd.ExcelWriter(path, engine = 'xlsxwriter')\n",
    "df1.to_excel(writer, sheet_name = 'x2')\n",
    "df2.to_excel(writer, sheet_name = 'x4')\n",
    "writer.save()\n",
    "writer.close()"
   ]
  },
  {
   "cell_type": "code",
   "execution_count": null,
   "id": "48cb1c5c",
   "metadata": {},
   "outputs": [],
   "source": []
  },
  {
   "cell_type": "code",
   "execution_count": null,
   "id": "7fea342a",
   "metadata": {},
   "outputs": [],
   "source": []
  },
  {
   "cell_type": "code",
   "execution_count": null,
   "id": "1fc4c974",
   "metadata": {},
   "outputs": [],
   "source": []
  }
 ],
 "metadata": {
  "kernelspec": {
   "display_name": "Python 3 (ipykernel)",
   "language": "python",
   "name": "python3"
  },
  "language_info": {
   "codemirror_mode": {
    "name": "ipython",
    "version": 3
   },
   "file_extension": ".py",
   "mimetype": "text/x-python",
   "name": "python",
   "nbconvert_exporter": "python",
   "pygments_lexer": "ipython3",
   "version": "3.9.7"
  }
 },
 "nbformat": 4,
 "nbformat_minor": 5
}
