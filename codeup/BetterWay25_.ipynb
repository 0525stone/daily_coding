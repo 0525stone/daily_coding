{
 "cells": [
  {
   "cell_type": "markdown",
   "id": "29c5edb8",
   "metadata": {},
   "source": [
    "### BW29 "
   ]
  },
  {
   "cell_type": "code",
   "execution_count": 1,
   "id": "749e1b6b",
   "metadata": {},
   "outputs": [],
   "source": [
    "stock = {'못':125,'나사못':35,'나비너트':8,'와셔':24}\n",
    "order = ['나사못','나비너트','클립']\n",
    "\n",
    "def get_batches(count,size):\n",
    "    return count // size"
   ]
  },
  {
   "cell_type": "code",
   "execution_count": 6,
   "id": "286e7a1e",
   "metadata": {},
   "outputs": [
    {
     "name": "stdout",
     "output_type": "stream",
     "text": [
      "{'나사못': 4, '나비너트': 1, '클립': 3}\n"
     ]
    }
   ],
   "source": [
    "# 컴프리헨션 없이\n",
    "result = {}\n",
    "for name in order:\n",
    "    count = stock.get(name,0)\n",
    "    batches = get_batches(count,8)\n",
    "    if batches:\n",
    "        result[name] = batches\n",
    "print(result)"
   ]
  },
  {
   "cell_type": "code",
   "execution_count": 8,
   "id": "994419e1",
   "metadata": {},
   "outputs": [
    {
     "name": "stdout",
     "output_type": "stream",
     "text": [
      "{'나사못': 4, '나비너트': 1}\n"
     ]
    }
   ],
   "source": [
    "# 컴프리헨션 있이\n",
    "found = {name: get_batches(stock.get(name,0),8)\n",
    "        for name in order\n",
    "        if get_batches(stock.get(name,0),8)}\n",
    "print(found)"
   ]
  },
  {
   "cell_type": "code",
   "execution_count": 11,
   "id": "18930c41",
   "metadata": {
    "scrolled": true
   },
   "outputs": [
    {
     "name": "stdout",
     "output_type": "stream",
     "text": [
      "{'나사못': 8, '나비너트': 2}\n"
     ]
    }
   ],
   "source": [
    "# 컴프리헨션 있이\n",
    "found = {name: get_batches(stock.get(name,0),4)\n",
    "        for name in order\n",
    "        if get_batches(stock.get(name,0),8)}\n",
    "print(found)"
   ]
  },
  {
   "cell_type": "code",
   "execution_count": 1,
   "id": "3a329590",
   "metadata": {},
   "outputs": [
    {
     "name": "stdout",
     "output_type": "stream",
     "text": [
      "[62, 17, 4, 12]의 마지막 원소는 12\n"
     ]
    },
    {
     "ename": "NameError",
     "evalue": "name 'count' is not defined",
     "output_type": "error",
     "traceback": [
      "\u001b[0;31m---------------------------------------------------------------------------\u001b[0m",
      "\u001b[0;31mNameError\u001b[0m                                 Traceback (most recent call last)",
      "\u001b[0;32m<ipython-input-1-361f9166ab67>\u001b[0m in \u001b[0;36m<module>\u001b[0;34m\u001b[0m\n\u001b[1;32m      7\u001b[0m \u001b[0mhalf\u001b[0m \u001b[0;34m=\u001b[0m \u001b[0;34m[\u001b[0m\u001b[0;34m(\u001b[0m\u001b[0mlast\u001b[0m\u001b[0;34m:=\u001b[0m \u001b[0mcount\u001b[0m \u001b[0;34m//\u001b[0m\u001b[0;36m2\u001b[0m \u001b[0;34m)\u001b[0m\u001b[0;32mfor\u001b[0m \u001b[0mcount\u001b[0m \u001b[0;32min\u001b[0m \u001b[0mstock\u001b[0m\u001b[0;34m.\u001b[0m\u001b[0mvalues\u001b[0m\u001b[0;34m(\u001b[0m\u001b[0;34m)\u001b[0m\u001b[0;34m]\u001b[0m\u001b[0;34m\u001b[0m\u001b[0;34m\u001b[0m\u001b[0m\n\u001b[1;32m      8\u001b[0m \u001b[0mprint\u001b[0m\u001b[0;34m(\u001b[0m\u001b[0;34mf'{half}의 마지막 원소는 {last}'\u001b[0m\u001b[0;34m)\u001b[0m\u001b[0;34m\u001b[0m\u001b[0;34m\u001b[0m\u001b[0m\n\u001b[0;32m----> 9\u001b[0;31m \u001b[0mprint\u001b[0m\u001b[0;34m(\u001b[0m\u001b[0mcount\u001b[0m\u001b[0;34m)\u001b[0m\u001b[0;34m\u001b[0m\u001b[0;34m\u001b[0m\u001b[0m\n\u001b[0m",
      "\u001b[0;31mNameError\u001b[0m: name 'count' is not defined"
     ]
    }
   ],
   "source": [
    "stock = {'못':125,'나사못':35,'나비너트':8,'와셔':24}\n",
    "order = ['나사못','나비너트','클립']\n",
    "\n",
    "def get_batches(count,size):\n",
    "    return count // size\n",
    "\n",
    "half = [(last:= count //2 )for count in stock.values()]\n",
    "print(f'{half}의 마지막 원소는 {last}')\n",
    "print(count)"
   ]
  },
  {
   "cell_type": "code",
   "execution_count": 2,
   "id": "7f6db11c",
   "metadata": {},
   "outputs": [
    {
     "name": "stdout",
     "output_type": "stream",
     "text": [
      "[62, 17, 4, 12]\n"
     ]
    },
    {
     "ename": "NameError",
     "evalue": "name 'count' is not defined",
     "output_type": "error",
     "traceback": [
      "\u001b[0;31m---------------------------------------------------------------------------\u001b[0m",
      "\u001b[0;31mNameError\u001b[0m                                 Traceback (most recent call last)",
      "\u001b[0;32m<ipython-input-2-ef1f64e2fd8f>\u001b[0m in \u001b[0;36m<module>\u001b[0;34m\u001b[0m\n\u001b[1;32m      2\u001b[0m \u001b[0mhalf\u001b[0m \u001b[0;34m=\u001b[0m \u001b[0;34m[\u001b[0m\u001b[0mcount\u001b[0m \u001b[0;34m//\u001b[0m \u001b[0;36m2\u001b[0m \u001b[0;32mfor\u001b[0m \u001b[0mcount\u001b[0m \u001b[0;32min\u001b[0m \u001b[0mstock\u001b[0m\u001b[0;34m.\u001b[0m\u001b[0mvalues\u001b[0m\u001b[0;34m(\u001b[0m\u001b[0;34m)\u001b[0m\u001b[0;34m]\u001b[0m\u001b[0;34m\u001b[0m\u001b[0;34m\u001b[0m\u001b[0m\n\u001b[1;32m      3\u001b[0m \u001b[0mprint\u001b[0m\u001b[0;34m(\u001b[0m\u001b[0mhalf\u001b[0m\u001b[0;34m)\u001b[0m\u001b[0;34m\u001b[0m\u001b[0;34m\u001b[0m\u001b[0m\n\u001b[0;32m----> 4\u001b[0;31m \u001b[0mprint\u001b[0m\u001b[0;34m(\u001b[0m\u001b[0mcount\u001b[0m\u001b[0;34m)\u001b[0m\u001b[0;34m\u001b[0m\u001b[0;34m\u001b[0m\u001b[0m\n\u001b[0m",
      "\u001b[0;31mNameError\u001b[0m: name 'count' is not defined"
     ]
    }
   ],
   "source": [
    "#\n",
    "half = [count // 2 for count in stock.values()]\n",
    "print(half)\n",
    "print(count)"
   ]
  },
  {
   "cell_type": "markdown",
   "id": "3fd7902a",
   "metadata": {},
   "source": [
    "### 제너레이터"
   ]
  },
  {
   "cell_type": "code",
   "execution_count": 16,
   "id": "97ee506e",
   "metadata": {},
   "outputs": [
    {
     "name": "stdout",
     "output_type": "stream",
     "text": [
      "3\n",
      "2\n",
      "1\n"
     ]
    }
   ],
   "source": [
    "# 제너레이터\n",
    "def gen_ ():\n",
    "    yield 3\n",
    "    yield 2\n",
    "    yield 1\n",
    "gen= gen_()\n",
    "type(gen)\n",
    "print(next(gen))\n",
    "print(next(gen))\n",
    "print(next(gen))"
   ]
  },
  {
   "cell_type": "code",
   "execution_count": null,
   "id": "f5809b3d",
   "metadata": {},
   "outputs": [],
   "source": []
  },
  {
   "cell_type": "code",
   "execution_count": null,
   "id": "c4996180",
   "metadata": {},
   "outputs": [],
   "source": []
  },
  {
   "cell_type": "code",
   "execution_count": null,
   "id": "7ddd17b8",
   "metadata": {},
   "outputs": [],
   "source": []
  },
  {
   "cell_type": "markdown",
   "id": "5e832cc0",
   "metadata": {},
   "source": [
    "### BW25 위치로만 인자를 지정하게 하거나 키워드로만 인자를 지정하게 해서 함수 호출을 명확하게 만들라\n",
    "**함수의 인자의 종류에 대해서 알아야함**\n",
    "- 인자 목록에서 인자들 사이에 *로 위치 인자의 끝과 키워드 인자의 시작을 구분해줌\n",
    "- 키워드 인자로 사용시 유의해야함. 인자 이름에 값을 대입하기 때문에, 이름 잘 지어야함.\n",
    "- 인자 목록에서 /로 위치 인자의 끝 표시\n",
    "- / 와 *의 사이에 있는 인자는 위치 인자 또는 키워드 인자 모두 가능"
   ]
  },
  {
   "cell_type": "code",
   "execution_count": 1,
   "id": "211b4020",
   "metadata": {},
   "outputs": [],
   "source": [
    "def safe_division(number,divisor,ignore_overflow,ignore_zero_division):\n",
    "    try:\n",
    "        return number / divisor\n",
    "    except OverflowError:\n",
    "        if ignore_overflow:\n",
    "            return 0\n",
    "        else:\n",
    "            raise\n",
    "    except ZeroDivisionError:\n",
    "        if ignore_zero_division:\n",
    "            return float('inf')\n",
    "        else:\n",
    "            raise"
   ]
  },
  {
   "cell_type": "code",
   "execution_count": 4,
   "id": "597a13ea",
   "metadata": {},
   "outputs": [
    {
     "name": "stdout",
     "output_type": "stream",
     "text": [
      "0\n",
      "inf\n"
     ]
    }
   ],
   "source": [
    "# True, False에 대해서 어떤 인자에 대한 값인지 불분명 -> 가독성 저하\n",
    "\n",
    "# overflowerror : 각 인자들에 순서대로 값들이 잘 입력되는 것을 확인\n",
    "result = safe_division(1.0,10**500, True, False)\n",
    "print(result)\n",
    "# zerodivisionerror 확인\n",
    "result = safe_division(1.0,0,False,True)\n",
    "print(result)"
   ]
  },
  {
   "cell_type": "code",
   "execution_count": 1,
   "id": "cb1684d2",
   "metadata": {},
   "outputs": [
    {
     "name": "stdout",
     "output_type": "stream",
     "text": [
      "0\n",
      "inf\n"
     ]
    }
   ],
   "source": [
    "# 키워드 인자에 디폴트 값을 정의, \n",
    "def safe_division(number,divisor,*,ignore_overflow = False ,ignore_zero_division = False):\n",
    "    try:\n",
    "        return number / divisor\n",
    "    except OverflowError:\n",
    "        if ignore_overflow:\n",
    "            return 0\n",
    "        else:\n",
    "            raise\n",
    "    except ZeroDivisionError:\n",
    "        if ignore_zero_division:\n",
    "            return float('inf')\n",
    "        else:\n",
    "            raise\n",
    "\n",
    "# 키워드 인자를 사용해 가독성이 좋음\n",
    "\n",
    "# overflowerror : 각 인자들에 순서대로 값들이 잘 입력되는 것을 확인\n",
    "result = safe_division(1.0,10**500, ignore_overflow = True)\n",
    "print(result)\n",
    "# zerodivisionerror 확인\n",
    "result = safe_division(1.0,0,ignore_zero_division = True)\n",
    "print(result)"
   ]
  },
  {
   "cell_type": "code",
   "execution_count": 3,
   "id": "9eef01e6",
   "metadata": {},
   "outputs": [
    {
     "name": "stdout",
     "output_type": "stream",
     "text": [
      "0\n"
     ]
    },
    {
     "ename": "TypeError",
     "evalue": "safe_division() takes 2 positional arguments but 4 were given",
     "output_type": "error",
     "traceback": [
      "\u001b[0;31m---------------------------------------------------------------------------\u001b[0m",
      "\u001b[0;31mTypeError\u001b[0m                                 Traceback (most recent call last)",
      "\u001b[0;32m<ipython-input-3-ff1d20f78033>\u001b[0m in \u001b[0;36m<module>\u001b[0;34m\u001b[0m\n\u001b[1;32m      3\u001b[0m \u001b[0mprint\u001b[0m\u001b[0;34m(\u001b[0m\u001b[0mresult\u001b[0m\u001b[0;34m)\u001b[0m\u001b[0;34m\u001b[0m\u001b[0;34m\u001b[0m\u001b[0m\n\u001b[1;32m      4\u001b[0m \u001b[0;31m# zerodivisionerror 확인\u001b[0m\u001b[0;34m\u001b[0m\u001b[0;34m\u001b[0m\u001b[0;34m\u001b[0m\u001b[0m\n\u001b[0;32m----> 5\u001b[0;31m \u001b[0mresult\u001b[0m \u001b[0;34m=\u001b[0m \u001b[0msafe_division\u001b[0m\u001b[0;34m(\u001b[0m\u001b[0;36m1.0\u001b[0m\u001b[0;34m,\u001b[0m\u001b[0;36m0\u001b[0m\u001b[0;34m,\u001b[0m\u001b[0;32mFalse\u001b[0m\u001b[0;34m,\u001b[0m\u001b[0;32mTrue\u001b[0m\u001b[0;34m)\u001b[0m\u001b[0;34m\u001b[0m\u001b[0;34m\u001b[0m\u001b[0m\n\u001b[0m\u001b[1;32m      6\u001b[0m \u001b[0mprint\u001b[0m\u001b[0;34m(\u001b[0m\u001b[0mresult\u001b[0m\u001b[0;34m)\u001b[0m\u001b[0;34m\u001b[0m\u001b[0;34m\u001b[0m\u001b[0m\n",
      "\u001b[0;31mTypeError\u001b[0m: safe_division() takes 2 positional arguments but 4 were given"
     ]
    }
   ],
   "source": [
    "# overflowerror : 각 인자들에 순서대로 값들이 잘 입력되는 것을 확인\n",
    "result = safe_division(1.0,10**500, ignore_overflow = True, ignore_zero_division = False)\n",
    "print(result)\n",
    "# zerodivisionerror 확인\n",
    "result = safe_division(1.0,0,False,True)\n",
    "print(result)"
   ]
  },
  {
   "cell_type": "code",
   "execution_count": null,
   "id": "481ab5e6",
   "metadata": {},
   "outputs": [],
   "source": []
  },
  {
   "cell_type": "code",
   "execution_count": null,
   "id": "c1c2121b",
   "metadata": {},
   "outputs": [],
   "source": []
  }
 ],
 "metadata": {
  "kernelspec": {
   "display_name": "Python 3",
   "language": "python",
   "name": "python3"
  },
  "language_info": {
   "codemirror_mode": {
    "name": "ipython",
    "version": 3
   },
   "file_extension": ".py",
   "mimetype": "text/x-python",
   "name": "python",
   "nbconvert_exporter": "python",
   "pygments_lexer": "ipython3",
   "version": "3.8.8"
  }
 },
 "nbformat": 4,
 "nbformat_minor": 5
}
