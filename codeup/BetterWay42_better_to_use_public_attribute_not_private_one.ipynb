{
 "cells": [
  {
   "cell_type": "markdown",
   "id": "6ef226bd",
   "metadata": {},
   "source": [
    "### BW42_better_to_use_public_attribute_not_private_one\n",
    "#### 파이썬 클래스 애트리뷰트 가시성 : **Public or Private**        \n",
    "- 비공개 필드\n",
    "  - attribute 앞에 _ 두개를 붙이면 비공개 필드가 됨(.으로 attribute 접근 가능)    \n",
    "  - 클래스 안에 있는 메서드에서 해당 필드에 직접 접근 가능\n",
    "  - 클래스 외부에서 비공개 필드에 접근하면 예외 발생\n",
    "  - 하위 클래스는 부모 클래스의 비공개 필드에 접근 불가\n",
    "  - **결론 : 비공개 attribute 는 하위 클래스의 필드와 이름이 충돌할 수 있는 경우만 써라**\n",
    "- 보호 필드    \n",
    "  - attribute 이름 앞에 _ 하나만 있으면 관례적으로 보호필드 의미\n",
    "  - 조심히 쓰라는 의미"
   ]
  },
  {
   "cell_type": "code",
   "execution_count": 9,
   "id": "6a5c63fc",
   "metadata": {},
   "outputs": [],
   "source": [
    "class MyObject:\n",
    "    def __init__(self):\n",
    "        self.public_field = 5\n",
    "        self.__private_field = 10\n",
    "    \n",
    "    def get_private_field(self):\n",
    "        return self.__private_field"
   ]
  },
  {
   "cell_type": "code",
   "execution_count": 10,
   "id": "ba0d6d89",
   "metadata": {},
   "outputs": [],
   "source": [
    "foo = MyObject()\n",
    "assert foo.public_field == 5 # .연산자로 attribute 접근 가능\n",
    "\n",
    "assert foo.get_private_field() == 10"
   ]
  },
  {
   "cell_type": "code",
   "execution_count": 11,
   "id": "a0c937bd",
   "metadata": {},
   "outputs": [
    {
     "ename": "AttributeError",
     "evalue": "'MyObject' object has no attribute '__private_field'",
     "output_type": "error",
     "traceback": [
      "\u001b[0;31m---------------------------------------------------------------------------\u001b[0m",
      "\u001b[0;31mAttributeError\u001b[0m                            Traceback (most recent call last)",
      "\u001b[0;32m<ipython-input-11-4d3143eb4832>\u001b[0m in \u001b[0;36m<module>\u001b[0;34m\u001b[0m\n\u001b[1;32m      1\u001b[0m \u001b[0;31m# 클래스 외부에서는 비공개 필드에 접근하면 예외 발생\u001b[0m\u001b[0;34m\u001b[0m\u001b[0;34m\u001b[0m\u001b[0;34m\u001b[0m\u001b[0m\n\u001b[0;32m----> 2\u001b[0;31m \u001b[0mfoo\u001b[0m\u001b[0;34m.\u001b[0m\u001b[0m__private_field\u001b[0m\u001b[0;34m\u001b[0m\u001b[0;34m\u001b[0m\u001b[0m\n\u001b[0m",
      "\u001b[0;31mAttributeError\u001b[0m: 'MyObject' object has no attribute '__private_field'"
     ]
    }
   ],
   "source": [
    "# 클래스 외부에서는 비공개 필드에 접근하면 예외 발생\n",
    "foo.__private_field"
   ]
  },
  {
   "cell_type": "code",
   "execution_count": 12,
   "id": "d3e940df",
   "metadata": {},
   "outputs": [],
   "source": [
    "# 클래스 메서드는 해당 클래스의 비공개 필드에 접근 가능 1\n",
    "#     - 자신을 둘러싸고 있는 class 블록 내부에 있기 때문에 \n",
    "class MyOtherObject:\n",
    "    def __init__(self):\n",
    "        self.__private_field = 71\n",
    "    \n",
    "    @classmethod\n",
    "    def get_private_field_of_instance(cls, instance):\n",
    "        return instance.__private_field"
   ]
  },
  {
   "cell_type": "code",
   "execution_count": 14,
   "id": "6cddba83",
   "metadata": {},
   "outputs": [
    {
     "ename": "AssertionError",
     "evalue": "",
     "output_type": "error",
     "traceback": [
      "\u001b[0;31m---------------------------------------------------------------------------\u001b[0m",
      "\u001b[0;31mAssertionError\u001b[0m                            Traceback (most recent call last)",
      "\u001b[0;32m<ipython-input-14-d9b86dc6b487>\u001b[0m in \u001b[0;36m<module>\u001b[0;34m\u001b[0m\n\u001b[1;32m      1\u001b[0m \u001b[0;31m# 클래스 메서드는 해당 클래스의 비공개 필드에 접근 가능 2\u001b[0m\u001b[0;34m\u001b[0m\u001b[0;34m\u001b[0m\u001b[0;34m\u001b[0m\u001b[0m\n\u001b[1;32m      2\u001b[0m \u001b[0mbar\u001b[0m \u001b[0;34m=\u001b[0m \u001b[0mMyOtherObject\u001b[0m\u001b[0;34m(\u001b[0m\u001b[0;34m)\u001b[0m\u001b[0;34m\u001b[0m\u001b[0;34m\u001b[0m\u001b[0m\n\u001b[0;32m----> 3\u001b[0;31m \u001b[0;32massert\u001b[0m \u001b[0mMyOtherObject\u001b[0m\u001b[0;34m.\u001b[0m\u001b[0mget_private_field_of_instance\u001b[0m\u001b[0;34m(\u001b[0m\u001b[0mbar\u001b[0m\u001b[0;34m)\u001b[0m \u001b[0;34m==\u001b[0m \u001b[0;36m70\u001b[0m\u001b[0;34m\u001b[0m\u001b[0;34m\u001b[0m\u001b[0m\n\u001b[0m",
      "\u001b[0;31mAssertionError\u001b[0m: "
     ]
    }
   ],
   "source": [
    "# 클래스 메서드는 해당 클래스의 비공개 필드에 접근 가능 2\n",
    "bar = MyOtherObject()\n",
    "assert MyOtherObject.get_private_field_of_instance(bar) == 70"
   ]
  },
  {
   "cell_type": "markdown",
   "id": "ccdd26f8",
   "metadata": {},
   "source": [
    "### 비공개 attribute에 대한 접근 구문이 실제로 엄격하게 제한 않는 이유는?\n",
    "- **파이썬 모토 : 우리는 모두 책임질줄 아는 성인이다**    \n",
    "  - 우리가 하고 싶은 일을 언어가 제한하면 안됨\n",
    "  - 비공개 attribute 접근이 가능함으로써 얻는 이익이 해악보다 큼\n",
    "  - attribute에 접근할 수 있는 언어 기능 제공 **BetterWay 47**    "
   ]
  },
  {
   "cell_type": "code",
   "execution_count": 15,
   "id": "ab87029a",
   "metadata": {},
   "outputs": [
    {
     "ename": "AttributeError",
     "evalue": "'MyChildObject' object has no attribute '_MyChildObject__private_field'",
     "output_type": "error",
     "traceback": [
      "\u001b[0;31m---------------------------------------------------------------------------\u001b[0m",
      "\u001b[0;31mAttributeError\u001b[0m                            Traceback (most recent call last)",
      "\u001b[0;32m<ipython-input-15-4a8139728bd7>\u001b[0m in \u001b[0;36m<module>\u001b[0;34m\u001b[0m\n\u001b[1;32m     11\u001b[0m \u001b[0;34m\u001b[0m\u001b[0m\n\u001b[1;32m     12\u001b[0m \u001b[0mbaz\u001b[0m \u001b[0;34m=\u001b[0m \u001b[0mMyChildObject\u001b[0m\u001b[0;34m(\u001b[0m\u001b[0;34m)\u001b[0m\u001b[0;34m\u001b[0m\u001b[0;34m\u001b[0m\u001b[0m\n\u001b[0;32m---> 13\u001b[0;31m \u001b[0mbaz\u001b[0m\u001b[0;34m.\u001b[0m\u001b[0mget_private_field\u001b[0m\u001b[0;34m(\u001b[0m\u001b[0;34m)\u001b[0m\u001b[0;34m\u001b[0m\u001b[0;34m\u001b[0m\u001b[0m\n\u001b[0m",
      "\u001b[0;32m<ipython-input-15-4a8139728bd7>\u001b[0m in \u001b[0;36mget_private_field\u001b[0;34m(self)\u001b[0m\n\u001b[1;32m      8\u001b[0m \u001b[0;32mclass\u001b[0m \u001b[0mMyChildObject\u001b[0m\u001b[0;34m(\u001b[0m\u001b[0mMyParentObject\u001b[0m\u001b[0;34m)\u001b[0m\u001b[0;34m:\u001b[0m\u001b[0;34m\u001b[0m\u001b[0;34m\u001b[0m\u001b[0m\n\u001b[1;32m      9\u001b[0m     \u001b[0;32mdef\u001b[0m \u001b[0mget_private_field\u001b[0m\u001b[0;34m(\u001b[0m\u001b[0mself\u001b[0m\u001b[0;34m)\u001b[0m\u001b[0;34m:\u001b[0m\u001b[0;34m\u001b[0m\u001b[0;34m\u001b[0m\u001b[0m\n\u001b[0;32m---> 10\u001b[0;31m         \u001b[0;32mreturn\u001b[0m \u001b[0mself\u001b[0m\u001b[0;34m.\u001b[0m\u001b[0m__private_field\u001b[0m\u001b[0;34m\u001b[0m\u001b[0;34m\u001b[0m\u001b[0m\n\u001b[0m\u001b[1;32m     11\u001b[0m \u001b[0;34m\u001b[0m\u001b[0m\n\u001b[1;32m     12\u001b[0m \u001b[0mbaz\u001b[0m \u001b[0;34m=\u001b[0m \u001b[0mMyChildObject\u001b[0m\u001b[0;34m(\u001b[0m\u001b[0;34m)\u001b[0m\u001b[0;34m\u001b[0m\u001b[0;34m\u001b[0m\u001b[0m\n",
      "\u001b[0;31mAttributeError\u001b[0m: 'MyChildObject' object has no attribute '_MyChildObject__private_field'"
     ]
    }
   ],
   "source": [
    "# 하위 클래스는 부모 클래스의 비공개 필드에 접근 불가 1\n",
    "# 자식 클래스에서 비공개 attribute에 접근할 경우, \n",
    "#       MychildObject__private_field의 이름으로 값을 찾음 -> 해당 변수 존재x 에러\n",
    "class MyParentObject:\n",
    "    def __init__(self):\n",
    "        self.__private_field = 71\n",
    "    \n",
    "class MyChildObject(MyParentObject):\n",
    "    def get_private_field(self):\n",
    "        return self.__private_field\n",
    "    \n",
    "baz = MyChildObject()\n",
    "baz.get_private_field()"
   ]
  },
  {
   "cell_type": "code",
   "execution_count": 16,
   "id": "2ec04660",
   "metadata": {},
   "outputs": [
    {
     "name": "stdout",
     "output_type": "stream",
     "text": [
      "{'_MyParentObject__private_field': 71}\n"
     ]
    }
   ],
   "source": [
    "# 하위 클래스는 부모 클래스의 비공개 필드에 접근 불가 2\n",
    "# 아래의 방식으로 어디서든 원하는 클래스의 비공개 attribute에 접근 가능\n",
    "assert baz._MyParentObject__private_field == 71\n",
    "\n",
    "print(baz.__dict__)"
   ]
  },
  {
   "cell_type": "code",
   "execution_count": null,
   "id": "3da456dc",
   "metadata": {},
   "outputs": [],
   "source": []
  },
  {
   "cell_type": "code",
   "execution_count": 24,
   "id": "35a4724c",
   "metadata": {},
   "outputs": [],
   "source": [
    "# 비공개 attribute를 사용하게 되면 확장성이 떨어지고, \n",
    "#       오버라이드가 귀찮아지고 깨지기 쉬워짐    1\n",
    "class MyStringClass:\n",
    "    def __init__(self, value):\n",
    "        self.__value = value\n",
    "    \n",
    "    def get_value(self):\n",
    "        return str(self.__value)  \n",
    "    \n",
    "foo = MyStringClass(5)\n",
    "assert foo.get_value() == '5' # 5가 맞으면 아무 에러 없음.. 틀리면 에러\n",
    "\n",
    "class MyIntegerSubClass(MyStringClass):\n",
    "    def get_value(self):\n",
    "        return int(self._MyStringClass__value)\n",
    "    \n",
    "foo = MyIntegerSubClass('5')\n",
    "assert foo.get_value() == 5"
   ]
  },
  {
   "cell_type": "code",
   "execution_count": 25,
   "id": "11c4b446",
   "metadata": {},
   "outputs": [],
   "source": [
    "# 비공개 attribute를 사용하게 되면 확장성이 떨어지고, \n",
    "#       오버라이드가 귀찮아지고 깨지기 쉬워짐    2\n",
    "class MyBaseClass:\n",
    "    def __init__(self, value):\n",
    "        self.__value = value\n",
    "    \n",
    "    def get_value(self):\n",
    "        return self.__value\n",
    "    \n",
    "class MyStringClass(MyBaseClass):\n",
    "    def get_value(self):\n",
    "        return str(super().get_value()) # super() : 부모클래스 내용 사용할 경우\n",
    "    \n",
    "class MyIntegerSubClass(MyStringClass):\n",
    "    def get_value(self):\n",
    "        return int(self._MyStringClass__value)"
   ]
  },
  {
   "cell_type": "code",
   "execution_count": 27,
   "id": "7748a18e",
   "metadata": {},
   "outputs": [
    {
     "ename": "AttributeError",
     "evalue": "'MyIntegerSubClass' object has no attribute '_MyStringClass__value'",
     "output_type": "error",
     "traceback": [
      "\u001b[0;31m---------------------------------------------------------------------------\u001b[0m",
      "\u001b[0;31mAttributeError\u001b[0m                            Traceback (most recent call last)",
      "\u001b[0;32m<ipython-input-27-69f4e5281900>\u001b[0m in \u001b[0;36m<module>\u001b[0;34m\u001b[0m\n\u001b[1;32m      2\u001b[0m \u001b[0;31m#                  -> 보호 attribute를 사용하는 것이 더 나음\u001b[0m\u001b[0;34m\u001b[0m\u001b[0;34m\u001b[0m\u001b[0;34m\u001b[0m\u001b[0m\n\u001b[1;32m      3\u001b[0m \u001b[0mfoo\u001b[0m \u001b[0;34m=\u001b[0m \u001b[0mMyIntegerSubClass\u001b[0m\u001b[0;34m(\u001b[0m\u001b[0;36m5\u001b[0m\u001b[0;34m)\u001b[0m\u001b[0;34m\u001b[0m\u001b[0;34m\u001b[0m\u001b[0m\n\u001b[0;32m----> 4\u001b[0;31m \u001b[0mfoo\u001b[0m\u001b[0;34m.\u001b[0m\u001b[0mget_value\u001b[0m\u001b[0;34m(\u001b[0m\u001b[0;34m)\u001b[0m\u001b[0;34m\u001b[0m\u001b[0;34m\u001b[0m\u001b[0m\n\u001b[0m",
      "\u001b[0;32m<ipython-input-25-6f38c35c1a9d>\u001b[0m in \u001b[0;36mget_value\u001b[0;34m(self)\u001b[0m\n\u001b[1;32m     14\u001b[0m \u001b[0;32mclass\u001b[0m \u001b[0mMyIntegerSubClass\u001b[0m\u001b[0;34m(\u001b[0m\u001b[0mMyStringClass\u001b[0m\u001b[0;34m)\u001b[0m\u001b[0;34m:\u001b[0m\u001b[0;34m\u001b[0m\u001b[0;34m\u001b[0m\u001b[0m\n\u001b[1;32m     15\u001b[0m     \u001b[0;32mdef\u001b[0m \u001b[0mget_value\u001b[0m\u001b[0;34m(\u001b[0m\u001b[0mself\u001b[0m\u001b[0;34m)\u001b[0m\u001b[0;34m:\u001b[0m\u001b[0;34m\u001b[0m\u001b[0;34m\u001b[0m\u001b[0m\n\u001b[0;32m---> 16\u001b[0;31m         \u001b[0;32mreturn\u001b[0m \u001b[0mint\u001b[0m\u001b[0;34m(\u001b[0m\u001b[0mself\u001b[0m\u001b[0;34m.\u001b[0m\u001b[0m_MyStringClass__value\u001b[0m\u001b[0;34m)\u001b[0m\u001b[0;34m\u001b[0m\u001b[0;34m\u001b[0m\u001b[0m\n\u001b[0m",
      "\u001b[0;31mAttributeError\u001b[0m: 'MyIntegerSubClass' object has no attribute '_MyStringClass__value'"
     ]
    }
   ],
   "source": [
    "# 상속을 허용하는 클래스들 사이에서 비공개 변수에 대한 참조가 깨짐 \n",
    "#                  -> 보호 attribute를 사용하는 것이 더 나음\n",
    "foo = MyIntegerSubClass(5)\n",
    "foo.get_value()"
   ]
  },
  {
   "cell_type": "markdown",
   "id": "cb04a2a7",
   "metadata": {},
   "source": [
    "### 결론 : 비공개 attribute 는 하위 클래스의 필드와 이름이 충돌할 수 있는 경우만 써라"
   ]
  },
  {
   "cell_type": "markdown",
   "id": "940c2265",
   "metadata": {},
   "source": [
    "### BW47 지연 계산 attribute가 필요하면 __getattr__, __getattribute__, __setattr__ 를 사용해라\n",
    "**지연 계산 : 매개변수에 있는 수식을 그대로 넘겨서 함수에서 매개변수가 필요할 때 계산**    \n",
    "- ex: r(f(g(x))) 의 함수가 있을 때, 통상적으로 g->f->r 이지만, 지연 계산은 r->f->g 임\n",
    "- 불필요한 계산을 안하게 됨\n",
    "- 성능 향상, 무한한 계산 가능하게 함\n",
    "- 기존 방식에 비해 **간결하고 가독성**이 우수함\n",
    "- 구현시 유의 사항 **참조투명성(referential transparancy)**\n",
    "  - 언제 계산하든 결과가 동일해야함\n",
    "  - 여러번 계산되나 안되나 코드의 다른 부분에 영향을 미치지 않아야함\n",
    "  - 수식이 계산된 부분과 계산되지 않은 부분을 구별하여 실행엔진에서 처리할 수 있어야함..\n",
    "- yield, 제너레이터를 이용한 파이프라이닝   \n",
    "## **Far to go...**"
   ]
  },
  {
   "cell_type": "code",
   "execution_count": 28,
   "id": "90edd5fc",
   "metadata": {},
   "outputs": [],
   "source": [
    "# __getattr__ : 특별 메서드로 동적 기능 활용\n",
    "class LazyRecord:\n",
    "    def __init__(self):\n",
    "        self.exists = 5\n",
    "    \n",
    "    def __getattr__(self, name):\n",
    "        value = f'{name}를 위한 값'\n",
    "        setattr(self, name, value)\n",
    "        return value"
   ]
  },
  {
   "cell_type": "code",
   "execution_count": 29,
   "id": "cfdd5e8d",
   "metadata": {},
   "outputs": [
    {
     "name": "stdout",
     "output_type": "stream",
     "text": [
      "이전:  {'exists': 5}\n",
      "foo:  foo를 위한 값\n",
      "이후:  {'exists': 5, 'foo': 'foo를 위한 값'}\n"
     ]
    }
   ],
   "source": [
    "data = LazyRecord()\n",
    "print('이전: ', data.__dict__)\n",
    "print('foo: ', data.foo)\n",
    "print('이후: ', data.__dict__)\n"
   ]
  },
  {
   "cell_type": "code",
   "execution_count": 31,
   "id": "18e5a42c",
   "metadata": {},
   "outputs": [
    {
     "name": "stdout",
     "output_type": "stream",
     "text": [
      "exists :  5\n",
      "* 호출: __getattr__('foo'), 인스턴스 딕셔너리 채워 넣음\n",
      "* 반환: 'foo를 위한 값'\n",
      "첫 번째 foo :  foo를 위한 값\n",
      "두 번째 foo :  foo를 위한 값\n"
     ]
    }
   ],
   "source": [
    "class LoggingLazyRecord(LazyRecord):\n",
    "    def __getattr__(self, name):\n",
    "        print(f'* 호출: __getattr__({name!r}), '\n",
    "             f'인스턴스 딕셔너리 채워 넣음')\n",
    "        result = super().__getattr__(name)\n",
    "        print(f'* 반환: {result!r}')\n",
    "        return result\n",
    "    \n",
    "data = LoggingLazyRecord()\n",
    "print('exists : ', data.exists)\n",
    "print('첫 번째 foo : ', data.foo)\n",
    "print('두 번째 foo : ', data.foo)"
   ]
  },
  {
   "cell_type": "code",
   "execution_count": null,
   "id": "e2830344",
   "metadata": {},
   "outputs": [],
   "source": []
  },
  {
   "cell_type": "code",
   "execution_count": null,
   "id": "d1d3f521",
   "metadata": {},
   "outputs": [],
   "source": []
  }
 ],
 "metadata": {
  "kernelspec": {
   "display_name": "Python 3",
   "language": "python",
   "name": "python3"
  },
  "language_info": {
   "codemirror_mode": {
    "name": "ipython",
    "version": 3
   },
   "file_extension": ".py",
   "mimetype": "text/x-python",
   "name": "python",
   "nbconvert_exporter": "python",
   "pygments_lexer": "ipython3",
   "version": "3.8.8"
  }
 },
 "nbformat": 4,
 "nbformat_minor": 5
}
