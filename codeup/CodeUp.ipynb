{
 "cells": [
  {
   "cell_type": "markdown",
   "id": "9dd071b8",
   "metadata": {},
   "source": [
    "# 빅오 표기법 요약 -> 시간 복잡도 계산\n",
    "## 풀고 나서 Time complexity, Space complexity 써주기\n",
    "### 출처 : https://noahlogs.tistory.com/27\n",
    "<img src = \"./img/bigO_01.png\">\n",
    "<img src = \"./img/bigO_02.png\">"
   ]
  },
  {
   "cell_type": "code",
   "execution_count": 1,
   "id": "02dfc7b0",
   "metadata": {},
   "outputs": [
    {
     "data": {
      "text/plain": [
       "8"
      ]
     },
     "execution_count": 1,
     "metadata": {},
     "output_type": "execute_result"
    }
   ],
   "source": [
    "8 & 10"
   ]
  },
  {
   "cell_type": "code",
   "execution_count": 2,
   "id": "09fe6c56",
   "metadata": {},
   "outputs": [
    {
     "data": {
      "text/plain": [
       "10"
      ]
     },
     "execution_count": 2,
     "metadata": {},
     "output_type": "execute_result"
    }
   ],
   "source": [
    "8 and 10"
   ]
  },
  {
   "cell_type": "code",
   "execution_count": 3,
   "id": "e3489235",
   "metadata": {},
   "outputs": [
    {
     "data": {
      "text/plain": [
       "8"
      ]
     },
     "execution_count": 3,
     "metadata": {},
     "output_type": "execute_result"
    }
   ],
   "source": [
    "10 and 8"
   ]
  },
  {
   "cell_type": "code",
   "execution_count": 4,
   "id": "a51c0105",
   "metadata": {},
   "outputs": [
    {
     "data": {
      "text/plain": [
       "8"
      ]
     },
     "execution_count": 4,
     "metadata": {},
     "output_type": "execute_result"
    }
   ],
   "source": [
    "10 & 8"
   ]
  },
  {
   "cell_type": "markdown",
   "id": "bb6f113d",
   "metadata": {},
   "source": [
    "\n",
    "## 6082 : [기초-종합] 3 6 9 게임의 왕이 되자(설명)(py)\n",
    "- 시간 제한: 1 Sec  메모리 제한: 128 MB\n",
    "- 확인 시간 : 17 / 메모리 : 27724   "
   ]
  },
  {
   "cell_type": "code",
   "execution_count": 14,
   "id": "c72d617e",
   "metadata": {
    "scrolled": true
   },
   "outputs": [
    {
     "name": "stdout",
     "output_type": "stream",
     "text": [
      "21\n",
      "1 2 X 4 5 X 7 8 X 10 11 12 X 14 15 X 17 18 X 20 21 "
     ]
    }
   ],
   "source": [
    "# 6082\n",
    "\n",
    "try:\n",
    "    c = int(input())\n",
    "except ValueError as e:\n",
    "    print('value is not integer type')\n",
    "    \n",
    "for i in range(1,c+1):\n",
    "    if((i%10) == 3):\n",
    "        print(\"X\",end=\" \")\n",
    "    elif((i%10) == 6):\n",
    "        print(\"X\",end=\" \")\n",
    "    elif((i%10) == 9):\n",
    "        print(\"X\",end=\" \")\n",
    "    else:\n",
    "        print(i,end=\" \")"
   ]
  },
  {
   "cell_type": "code",
   "execution_count": 2,
   "id": "caa24a65",
   "metadata": {},
   "outputs": [
    {
     "data": {
      "text/plain": [
       "0"
      ]
     },
     "execution_count": 2,
     "metadata": {},
     "output_type": "execute_result"
    }
   ],
   "source": [
    "3 & 0"
   ]
  },
  {
   "cell_type": "code",
   "execution_count": 1,
   "id": "962dda96",
   "metadata": {},
   "outputs": [
    {
     "data": {
      "text/plain": [
       "0"
      ]
     },
     "execution_count": 1,
     "metadata": {},
     "output_type": "execute_result"
    }
   ],
   "source": [
    "3 and 0"
   ]
  },
  {
   "cell_type": "markdown",
   "id": "7287971d",
   "metadata": {},
   "source": [
    "## 6076 : [기초-반복실행구조] 정수 1개 입력받아 그 수까지 출력하기2\n",
    "- 문제 조건 시간 제한: 1 Sec  메모리 제한: 128 MB\n",
    "- 실제 메모리 : 27724 시간 : 16\n",
    "- 시간 복잡도 : O(n)\n",
    "\n",
    "\n",
    "## 6077 : [기초-종합] 짝수 합 구하기(설명)(py)\n",
    "- 시간 제한: 1 Sec  메모리 제한: 128 MB\n",
    "- 실제 메모리 : 27724 시간 : 16\n",
    "- 시간 복잡도 : O(n)\n",
    "\n",
    "\n",
    "## 6078 : [기초-종합] 원하는 문자가 입력될 때까지 반복 출력하기(py)\n",
    "- 문제 조건 시간 제한: 1 Sec  메모리 제한: 128 MB\n",
    "- 실제 메모리 : 27724 / 시간 : 16\n",
    "- 시간 복잡도 : O(n)"
   ]
  },
  {
   "cell_type": "code",
   "execution_count": 5,
   "id": "688ea760",
   "metadata": {},
   "outputs": [
    {
     "name": "stdout",
     "output_type": "stream",
     "text": [
      "d\n",
      "d\n",
      "ㄹ\n",
      "ㄹ\n",
      "y\n",
      "y\n",
      "e\n",
      "e\n",
      "w\n",
      "w\n",
      "t\n",
      "t\n",
      "q\n",
      "q\n"
     ]
    }
   ],
   "source": [
    "# 6078\n",
    "while True:\n",
    "    c = input()\n",
    "    print(c)\n",
    "    if(c == 'q'):\n",
    "        break        "
   ]
  },
  {
   "cell_type": "code",
   "execution_count": 3,
   "id": "edc21bcd",
   "metadata": {},
   "outputs": [
    {
     "name": "stdout",
     "output_type": "stream",
     "text": [
      "5\n",
      "6\n"
     ]
    }
   ],
   "source": [
    "# 6077\n",
    "sum = 0\n",
    "for i in range(c:=int(input())+1):\n",
    "    if(i%2 == 0):\n",
    "        sum = sum + i\n",
    "print(sum)"
   ]
  },
  {
   "cell_type": "code",
   "execution_count": 3,
   "id": "7ec87262",
   "metadata": {},
   "outputs": [
    {
     "name": "stdout",
     "output_type": "stream",
     "text": [
      "12\n",
      "0\n",
      "1\n",
      "2\n",
      "3\n",
      "4\n",
      "5\n",
      "6\n",
      "7\n",
      "8\n",
      "9\n",
      "10\n",
      "11\n",
      "12\n"
     ]
    }
   ],
   "source": [
    "# 6076\n",
    "n = int(input())\n",
    "for i in range(n+1):\n",
    "    print(i)"
   ]
  },
  {
   "cell_type": "code",
   "execution_count": null,
   "id": "170260cf",
   "metadata": {},
   "outputs": [],
   "source": []
  },
  {
   "cell_type": "markdown",
   "id": "6bab3d26",
   "metadata": {},
   "source": [
    "## 6074 : 문자 1개 입력받아 알파벳 출력하기\n",
    "- 시간 제한: 1 Sec  / 메모리 제한: 128 MB\n",
    "- 메모 : 알파벳을 순서대로 어떻게 호출할 지(ASCII? check by 'ord()')     \n",
    "\n",
    "\n",
    "## 6072 : 정수 1개 입력받아 카운트다운 출력하기\n",
    "- 시간 제한: 1 Sec  / 메모리 제한: 128 MB\n",
    "- 메모 : range()의 stride 쓰는 거 확인 필요   \n",
    "\n",
    "### 입력을 받고 타입을 체크해서 진행 -> 타입체크 깔끔한 방법이 멀까..\n",
    "- 더 깔끔한 코드를 위해서는 만나지 않아야 할 상황들을 초반에 처리하고 그 다음에 만날 경우에 대한 부분 코딩 for **가독성**"
   ]
  },
  {
   "cell_type": "code",
   "execution_count": 18,
   "id": "5965bd83",
   "metadata": {},
   "outputs": [
    {
     "name": "stdout",
     "output_type": "stream",
     "text": [
      "y\n",
      "a b c d e f g h i j k l m n o p q r s t u v w x y "
     ]
    }
   ],
   "source": [
    "# 6074 문제 풀이\n",
    "# 결과 : 메모리 27724, 시간 : 18 \n",
    "\n",
    "# print(ord('a')) # 알파벳 a의 ascii 코드 확인\n",
    "start = ord('a')\n",
    "c = ord(input())\n",
    "# end = ord(c)\n",
    "for i in range(start,c+1):\n",
    "    print(chr(i), end=' ') # ascii 코드의 숫자 chr로 해당 문자 출력"
   ]
  },
  {
   "cell_type": "code",
   "execution_count": 8,
   "id": "ad4413e1",
   "metadata": {},
   "outputs": [
    {
     "name": "stdout",
     "output_type": "stream",
     "text": [
      "t\n",
      "a b c d e f g h i j k l m n o p q r s t "
     ]
    }
   ],
   "source": [
    "# 지은님 6074\n",
    "a = ord(input())\n",
    "b = ord('a')\n",
    "while a>=b:\n",
    "    print(chr(b), end=\" \")\n",
    "    b+=1"
   ]
  },
  {
   "cell_type": "code",
   "execution_count": 8,
   "id": "5c8b3a32",
   "metadata": {},
   "outputs": [
    {
     "name": "stdout",
     "output_type": "stream",
     "text": [
      "10\n",
      "10\n",
      "9\n",
      "8\n",
      "7\n",
      "6\n",
      "5\n",
      "4\n",
      "3\n",
      "2\n",
      "1\n"
     ]
    }
   ],
   "source": [
    "# 6072 문제 풀이\n",
    "# 결과 : 메모리 27724, 시간 : 18\n",
    "\n",
    "c = int(input())\n",
    "\n",
    "for i in range(c,0,-1):\n",
    "    print(i)"
   ]
  },
  {
   "cell_type": "code",
   "execution_count": 5,
   "id": "fd77ff81",
   "metadata": {},
   "outputs": [
    {
     "name": "stdout",
     "output_type": "stream",
     "text": [
      "2\n",
      "2\n"
     ]
    }
   ],
   "source": [
    "if isinstance(i:= int(input()),int):\n",
    "    print(i)"
   ]
  },
  {
   "cell_type": "code",
   "execution_count": 4,
   "id": "a3785ead",
   "metadata": {},
   "outputs": [
    {
     "name": "stdout",
     "output_type": "stream",
     "text": [
      "r\n"
     ]
    },
    {
     "ename": "ValueError",
     "evalue": "invalid literal for int() with base 10: 'r'",
     "output_type": "error",
     "traceback": [
      "\u001b[0;31m---------------------------------------------------------------------------\u001b[0m",
      "\u001b[0;31mValueError\u001b[0m                                Traceback (most recent call last)",
      "\u001b[0;32m<ipython-input-4-fb7c85f46319>\u001b[0m in \u001b[0;36m<module>\u001b[0;34m\u001b[0m\n\u001b[1;32m      2\u001b[0m     \u001b[0mn\u001b[0m \u001b[0;34m=\u001b[0m \u001b[0minput\u001b[0m\u001b[0;34m(\u001b[0m\u001b[0;34m)\u001b[0m\u001b[0;34m\u001b[0m\u001b[0;34m\u001b[0m\u001b[0m\n\u001b[1;32m      3\u001b[0m \u001b[0;34m\u001b[0m\u001b[0m\n\u001b[0;32m----> 4\u001b[0;31m     \u001b[0;32mif\u001b[0m \u001b[0mtype\u001b[0m\u001b[0;34m(\u001b[0m\u001b[0mint\u001b[0m\u001b[0;34m(\u001b[0m\u001b[0mn\u001b[0m\u001b[0;34m)\u001b[0m\u001b[0;34m)\u001b[0m \u001b[0;32mis\u001b[0m \u001b[0mint\u001b[0m\u001b[0;34m:\u001b[0m\u001b[0;34m\u001b[0m\u001b[0;34m\u001b[0m\u001b[0m\n\u001b[0m\u001b[1;32m      5\u001b[0m         \u001b[0;32mif\u001b[0m \u001b[0mint\u001b[0m\u001b[0;34m(\u001b[0m\u001b[0mn\u001b[0m\u001b[0;34m)\u001b[0m \u001b[0;34m==\u001b[0m \u001b[0;36m0\u001b[0m\u001b[0;34m:\u001b[0m\u001b[0;34m\u001b[0m\u001b[0;34m\u001b[0m\u001b[0m\n\u001b[1;32m      6\u001b[0m             \u001b[0;32mbreak\u001b[0m\u001b[0;34m\u001b[0m\u001b[0;34m\u001b[0m\u001b[0m\n",
      "\u001b[0;31mValueError\u001b[0m: invalid literal for int() with base 10: 'r'"
     ]
    }
   ],
   "source": [
    "while True:\n",
    "    n = input()\n",
    "    \n",
    "    if type(int(n)) is int:\n",
    "        if int(n) == 0:\n",
    "            break\n",
    "        else: print(n)\n",
    "    else: continue\n",
    "            "
   ]
  },
  {
   "cell_type": "code",
   "execution_count": null,
   "id": "7336bb69",
   "metadata": {},
   "outputs": [],
   "source": []
  }
 ],
 "metadata": {
  "kernelspec": {
   "display_name": "Python 3",
   "language": "python",
   "name": "python3"
  },
  "language_info": {
   "codemirror_mode": {
    "name": "ipython",
    "version": 3
   },
   "file_extension": ".py",
   "mimetype": "text/x-python",
   "name": "python",
   "nbconvert_exporter": "python",
   "pygments_lexer": "ipython3",
   "version": "3.8.8"
  }
 },
 "nbformat": 4,
 "nbformat_minor": 5
}
