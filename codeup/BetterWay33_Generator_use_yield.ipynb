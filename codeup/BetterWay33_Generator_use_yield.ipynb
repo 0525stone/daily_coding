{
 "cells": [
  {
   "cell_type": "markdown",
   "id": "1eaf00e5",
   "metadata": {},
   "source": [
    "### BW33 : Yield from을 사용하여 여러 제너레이터를 합성하라\n",
    "- yield from : 부모 제너레이터에 전달하기 전에 내포된 제너레이터가 모든 값을 내보냄\n",
    "    "
   ]
  },
  {
   "cell_type": "code",
   "execution_count": 8,
   "id": "3f6ed658",
   "metadata": {},
   "outputs": [],
   "source": [
    "import timeit"
   ]
  },
  {
   "cell_type": "code",
   "execution_count": 51,
   "id": "fd5d0f1d",
   "metadata": {},
   "outputs": [],
   "source": [
    "# yield 로 제너레이터 생성\n",
    "def move(period, speed):\n",
    "    for _ in range(period):\n",
    "        yield speed\n",
    "        \n",
    "def pause(delay):\n",
    "    for _ in range(delay):\n",
    "        yield 0"
   ]
  },
  {
   "cell_type": "code",
   "execution_count": 52,
   "id": "f73a9ec3",
   "metadata": {},
   "outputs": [],
   "source": [
    "# yield 로 제너레이터 생성\n",
    "# for 문과 yield 가 너무 반복적이라서 가독성이 떨어짐, 잡음 늘어남\n",
    "def animate():\n",
    "    for delta in move(4,5.0):\n",
    "        yield delta\n",
    "    for delta in pause(3):\n",
    "        yield delta\n",
    "    for delta in move(2,3.0):\n",
    "        yield delta"
   ]
  },
  {
   "cell_type": "code",
   "execution_count": 53,
   "id": "f2679ac8",
   "metadata": {},
   "outputs": [
    {
     "name": "stdout",
     "output_type": "stream",
     "text": [
      "Delta: 5.0\n",
      "Delta: 5.0\n",
      "Delta: 5.0\n",
      "Delta: 5.0\n",
      "Delta: 0.0\n",
      "Delta: 0.0\n",
      "Delta: 0.0\n",
      "Delta: 3.0\n",
      "Delta: 3.0\n",
      "걸린 시간 :  0.0022093679999670712\n"
     ]
    }
   ],
   "source": [
    "# 확인 코드\n",
    "def render(delta):\n",
    "    print(f'Delta: {delta:.1f}')\n",
    "\n",
    "def run(func):\n",
    "    for delta in func():\n",
    "        render(delta)\n",
    "\n",
    "t1 = timeit.timeit()\n",
    "run(animate)\n",
    "t2 = timeit.timeit()\n",
    "print('걸린 시간 : ',t2-t1)"
   ]
  },
  {
   "cell_type": "code",
   "execution_count": 45,
   "id": "7793ae8e",
   "metadata": {},
   "outputs": [
    {
     "name": "stdout",
     "output_type": "stream",
     "text": [
      "Delta: 5.0\n",
      "Delta: 5.0\n",
      "Delta: 5.0\n",
      "Delta: 5.0\n",
      "Delta: 0.0\n",
      "Delta: 0.0\n",
      "Delta: 0.0\n",
      "Delta: 3.0\n",
      "Delta: 3.0\n",
      "걸린 시간 :  -0.0008100570003080065\n"
     ]
    }
   ],
   "source": [
    "# 위의 식은 제너레이터를 결국 두 번 만들어서 하나의 동작을 하는데, 여기선 yield from으로 한번의 제너레티어를 만들어서 모든 동작 바로 구현\n",
    "def animate_composed():\n",
    "    yield from move(4,5.0)\n",
    "    yield from pause(3)\n",
    "    yield from move(2,3.0)\n",
    "\n",
    "t3 = timeit.timeit()\n",
    "run(animate_composed)\n",
    "t4 = timeit.timeit()\n",
    "print('걸린 시간 : ',t4-t3)"
   ]
  },
  {
   "cell_type": "markdown",
   "id": "e07671ca",
   "metadata": {},
   "source": [
    "### 성능 확인    \n",
    "**timeit 사용 timeit.timeit(stmt, setup, timer, number, globals)**.   \n",
    "- stmt : 실행시간을 확인하고 싶은 코드(default : pass)    \n",
    "- setup : setup 디테일. stmt 전에 실행할 것(default : pass)\n",
    "- timer : 이미 default값이 정해져 있음.무시해도 됨\n",
    "- number : stmt를 실행할 횟수(default : 1000000)\n",
    "- globals : 코드를 실행할 이름 공간 지정(globals(), locals(), namespace)"
   ]
  },
  {
   "cell_type": "code",
   "execution_count": 50,
   "id": "f0fcd038",
   "metadata": {},
   "outputs": [
    {
     "name": "stdout",
     "output_type": "stream",
     "text": [
      "수동 내포 : 3.91s\n",
      "합성 사용 : 3.52s\n"
     ]
    }
   ],
   "source": [
    "# 책에서 나온 성능 확인 방법\n",
    "import timeit\n",
    "\n",
    "def child():\n",
    "    for i in range(1_000_000):\n",
    "        yield i\n",
    "\n",
    "def slow():\n",
    "    for i in child():\n",
    "        yield i\n",
    "    \n",
    "def fast():\n",
    "    yield from child()\n",
    "    \n",
    "baseline = timeit.timeit(stmt='for _ in slow(): pass', globals=globals(),number=50)\n",
    "print(f'수동 내포 : {baseline:.2f}s')\n",
    "\n",
    "comparison = timeit.timeit(stmt='for _ in fast(): pass', globals=globals(),number=50)\n",
    "print(f'합성 사용 : {comparison:.2f}s')"
   ]
  },
  {
   "cell_type": "code",
   "execution_count": null,
   "id": "d430200e",
   "metadata": {},
   "outputs": [],
   "source": []
  },
  {
   "cell_type": "code",
   "execution_count": 38,
   "id": "a85c3a4e",
   "metadata": {},
   "outputs": [
    {
     "name": "stdout",
     "output_type": "stream",
     "text": [
      "edcba\n"
     ]
    }
   ],
   "source": [
    "from functools import reduce\n",
    "print(reduce(lambda x, y: y+x , 'abcde'))\n",
    "# reduce(lambda x, y: x + y, [0, 1, 2, 3, 4])"
   ]
  },
  {
   "cell_type": "code",
   "execution_count": 31,
   "id": "575b963d",
   "metadata": {
    "scrolled": false
   },
   "outputs": [
    {
     "name": "stdout",
     "output_type": "stream",
     "text": [
      "abcde\n"
     ]
    }
   ],
   "source": [
    "for x in (['abcde']):\n",
    "    print(x)"
   ]
  },
  {
   "cell_type": "code",
   "execution_count": null,
   "id": "1587af83",
   "metadata": {},
   "outputs": [],
   "source": []
  },
  {
   "cell_type": "markdown",
   "id": "e1e7772a",
   "metadata": {},
   "source": [
    "### BW36 : itertools 를 사용하라\n"
   ]
  },
  {
   "cell_type": "code",
   "execution_count": 58,
   "id": "ae964cd2",
   "metadata": {},
   "outputs": [
    {
     "name": "stdout",
     "output_type": "stream",
     "text": [
      "['한', '둘']\n",
      "['한', '둘']\n",
      "['한', '둘']\n"
     ]
    }
   ],
   "source": [
    "import itertools\n",
    "it1,it2,it3 = itertools.tee(['한','둘'],3)\n",
    "print(list(it1))\n",
    "print(list(it2))\n",
    "print(list(it3))"
   ]
  },
  {
   "cell_type": "code",
   "execution_count": 59,
   "id": "b5e2f37d",
   "metadata": {},
   "outputs": [
    {
     "name": "stdout",
     "output_type": "stream",
     "text": [
      "[11.538461538461538, 26.923076923076923, 61.53846153846154]\n"
     ]
    }
   ],
   "source": [
    "# bw31\n",
    "def normalize(numbers):\n",
    "    total = sum(numbers)\n",
    "    result = []\n",
    "    for value in numbers:\n",
    "        percent = 100 * value / total\n",
    "        result.append(percent)\n",
    "    return result\n",
    "\n",
    "visits = [15, 35, 80]\n",
    "percentages = normalize(visits)\n",
    "print(percentages)"
   ]
  },
  {
   "cell_type": "code",
   "execution_count": 89,
   "id": "a9c94a1e",
   "metadata": {},
   "outputs": [],
   "source": [
    "# f = open('my_numbers.txt','w')\n",
    "# f.write('15 ')\n",
    "# f.write('35 ')\n",
    "# f.write('80\\n')\n",
    "# f.close()\n",
    "\n",
    "# f = open('my_numbers.txt','r')\n",
    "# print(f.readline())\n",
    "# for line in f:\n",
    "#     a = f.readlines()\n",
    "#     print(a)"
   ]
  },
  {
   "cell_type": "code",
   "execution_count": 92,
   "id": "01365063",
   "metadata": {},
   "outputs": [
    {
     "name": "stdout",
     "output_type": "stream",
     "text": [
      "[]\n"
     ]
    }
   ],
   "source": [
    "def read_visits(data_path):\n",
    "    with open(data_path) as f:\n",
    "        for line in f:\n",
    "            yield int(line)\n",
    "\n",
    "it = read_visits('my_numbers.txt')\n",
    "percentages = normalize(it)\n",
    "print(percentages)"
   ]
  },
  {
   "cell_type": "code",
   "execution_count": 90,
   "id": "d3062bdb",
   "metadata": {},
   "outputs": [
    {
     "name": "stdout",
     "output_type": "stream",
     "text": [
      "15 35 80\n",
      "\n"
     ]
    }
   ],
   "source": []
  },
  {
   "cell_type": "code",
   "execution_count": null,
   "id": "a6122e56",
   "metadata": {},
   "outputs": [],
   "source": []
  },
  {
   "cell_type": "code",
   "execution_count": null,
   "id": "caf95306",
   "metadata": {},
   "outputs": [],
   "source": []
  }
 ],
 "metadata": {
  "kernelspec": {
   "display_name": "Python 3",
   "language": "python",
   "name": "python3"
  },
  "language_info": {
   "codemirror_mode": {
    "name": "ipython",
    "version": 3
   },
   "file_extension": ".py",
   "mimetype": "text/x-python",
   "name": "python",
   "nbconvert_exporter": "python",
   "pygments_lexer": "ipython3",
   "version": "3.8.8"
  }
 },
 "nbformat": 4,
 "nbformat_minor": 5
}
