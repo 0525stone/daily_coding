{
 "cells": [
  {
   "cell_type": "code",
   "execution_count": 1,
   "id": "fa8c9a13",
   "metadata": {},
   "outputs": [],
   "source": [
    "import numpy as np\n",
    "import cv2\n",
    "import matplotlib.pyplot as plt"
   ]
  },
  {
   "cell_type": "code",
   "execution_count": 2,
   "id": "d0b2c2fa",
   "metadata": {},
   "outputs": [],
   "source": [
    "vp1 = [136.6, 275.3, 560.0]\n",
    "\n",
    "json_data = [[ 0.97606232, -0.00642975,  0.21739599], \n",
    "         [-0.21749105, -0.02885559,  0.97563569],\n",
    "         [0.        , 0.99956291, 0.02956327]]\n",
    "\n",
    "npz_data = [[ 0.97606232, -0.00642975,  0.21739599],\n",
    "             [-0.21749105, -0.02885559,  0.97563569],\n",
    "             [ 0.      ,    0.99956291,  0.02956327]]"
   ]
  },
  {
   "cell_type": "code",
   "execution_count": 16,
   "id": "728fd7a5",
   "metadata": {},
   "outputs": [],
   "source": [
    "def dot_product(vec1, vec2):\n",
    "    result_dot = np.dot(vec1, vec2)\n",
    "    return result_dot\n",
    "\n",
    "def get_degree(vec1, vec2):\n",
    "    vp_norm = np.linalg.norm(vec1)\n",
    "    json_norm = np.linalg.norm(vec2)\n",
    "    vp_json = dot_product(vec1, vec2)/vp_norm/json_norm\n",
    "\n",
    "    degree = np.arccos(vp_json)\n",
    "    return degree*180/np.pi"
   ]
  },
  {
   "cell_type": "code",
   "execution_count": 17,
   "id": "088fab42",
   "metadata": {},
   "outputs": [
    {
     "data": {
      "text/plain": [
       "0.48717861916441"
      ]
     },
     "execution_count": 17,
     "metadata": {},
     "output_type": "execute_result"
    }
   ],
   "source": [
    "# degree 34.27\n",
    "data1 = [417,207]\n",
    "data2 = [424,206]\n",
    "\n",
    "get_degree(data1, data2)"
   ]
  },
  {
   "cell_type": "code",
   "execution_count": 18,
   "id": "3b36e780",
   "metadata": {},
   "outputs": [
    {
     "data": {
      "text/plain": [
       "0.4705056486076437"
      ]
     },
     "execution_count": 18,
     "metadata": {},
     "output_type": "execute_result"
    }
   ],
   "source": [
    "data1 = [417,207, 2.1875*256]\n",
    "data2 = [424,206, 2.1875*256]\n",
    "\n",
    "get_degree(data1, data2)"
   ]
  },
  {
   "cell_type": "code",
   "execution_count": 19,
   "id": "b788cc95",
   "metadata": {},
   "outputs": [
    {
     "data": {
      "text/plain": [
       "22.818112170952315"
      ]
     },
     "execution_count": 19,
     "metadata": {},
     "output_type": "execute_result"
    }
   ],
   "source": [
    "gt = [0.28681979, 0.0835354,  0.9543355 ] \n",
    "pred = [417.3, 207.0, 2.1875*256]\n",
    "get_degree(gt, pred)"
   ]
  },
  {
   "cell_type": "markdown",
   "id": "a40f3fb7",
   "metadata": {},
   "source": [
    "### 바로 확인해보기"
   ]
  },
  {
   "cell_type": "code",
   "execution_count": 21,
   "id": "b3966b34",
   "metadata": {},
   "outputs": [
    {
     "data": {
      "text/plain": [
       "4.207699855737857"
      ]
     },
     "execution_count": 21,
     "metadata": {},
     "output_type": "execute_result"
    }
   ],
   "source": [
    "data1 = [231, 246, 2.1875*256]\n",
    "data2 = [284, 265, 2.1875*256]\n",
    "\n",
    "get_degree(data1, data2)"
   ]
  },
  {
   "cell_type": "code",
   "execution_count": null,
   "id": "00addeac",
   "metadata": {},
   "outputs": [],
   "source": [
    "data1 = [417, 207, 2.1875*256]\n",
    "data2 = [424, 206, 2.1875*256]\n",
    "\n",
    "get_degree(data1, data2)"
   ]
  },
  {
   "cell_type": "code",
   "execution_count": 22,
   "id": "ff314ef9",
   "metadata": {},
   "outputs": [
    {
     "data": {
      "text/plain": [
       "37.93177521900293"
      ]
     },
     "execution_count": 22,
     "metadata": {},
     "output_type": "execute_result"
    }
   ],
   "source": [
    "data1 = [493, -114, 2.1875*256]\n",
    "data2 = [256, -588, 2.1875*256]\n",
    "\n",
    "get_degree(data1, data2)"
   ]
  },
  {
   "cell_type": "code",
   "execution_count": 26,
   "id": "04486f75",
   "metadata": {},
   "outputs": [
    {
     "data": {
      "text/plain": [
       "0.5743044974798942"
      ]
     },
     "execution_count": 26,
     "metadata": {},
     "output_type": "execute_result"
    }
   ],
   "source": [
    "data1 = [136-256, 275-256, 2.1875*256]\n",
    "data2 = [131-256, 272-256, 2.1875*256]\n",
    "\n",
    "get_degree(data1, data2)"
   ]
  },
  {
   "cell_type": "code",
   "execution_count": 25,
   "id": "b6c36d95",
   "metadata": {},
   "outputs": [
    {
     "data": {
      "text/plain": [
       "3.6231567663216917"
      ]
     },
     "execution_count": 25,
     "metadata": {},
     "output_type": "execute_result"
    }
   ],
   "source": [
    "data1 = [-0.21749105, -0.02885559 , 0.97563569]\n",
    "data2 = [136.6-256, 275.3-256, 2.1875*256]\n",
    "\n",
    "get_degree(data1, data2)"
   ]
  },
  {
   "cell_type": "code",
   "execution_count": null,
   "id": "ea7cb787",
   "metadata": {},
   "outputs": [],
   "source": [
    "data1 = [417, 207, 2.1875*256]\n",
    "data2 = [424, 206, 2.1875*256]\n",
    "\n",
    "get_degree(data1, data2)"
   ]
  },
  {
   "cell_type": "code",
   "execution_count": null,
   "id": "57d5ce4d",
   "metadata": {},
   "outputs": [],
   "source": []
  },
  {
   "cell_type": "code",
   "execution_count": null,
   "id": "39cc6450",
   "metadata": {},
   "outputs": [],
   "source": [
    "data1 = [417, 207, 2.1875*256]\n",
    "data2 = [424, 206, 2.1875*256]\n",
    "\n",
    "get_degree(data1, data2)"
   ]
  },
  {
   "cell_type": "code",
   "execution_count": null,
   "id": "27671ca4",
   "metadata": {},
   "outputs": [],
   "source": []
  },
  {
   "cell_type": "markdown",
   "id": "f265b8c8",
   "metadata": {},
   "source": [
    "### earlier"
   ]
  },
  {
   "cell_type": "code",
   "execution_count": 22,
   "id": "1c6e5b31",
   "metadata": {},
   "outputs": [
    {
     "data": {
      "text/plain": [
       "66.63824783844457"
      ]
     },
     "execution_count": 22,
     "metadata": {},
     "output_type": "execute_result"
    }
   ],
   "source": [
    "get_degree(vp1, json_data[0])"
   ]
  },
  {
   "cell_type": "code",
   "execution_count": 24,
   "id": "f2ff3439",
   "metadata": {},
   "outputs": [
    {
     "name": "stdout",
     "output_type": "stream",
     "text": [
      "66.63824783844457\n",
      "37.216420031549276\n",
      "62.82555217195277\n"
     ]
    }
   ],
   "source": [
    "for j in json_data:\n",
    "    print(get_degree(vp1, j))"
   ]
  },
  {
   "cell_type": "code",
   "execution_count": 25,
   "id": "fc9a1924",
   "metadata": {},
   "outputs": [
    {
     "name": "stdout",
     "output_type": "stream",
     "text": [
      "66.63824783844457\n",
      "37.216420031549276\n",
      "62.82555217195277\n"
     ]
    }
   ],
   "source": [
    "for j in npz_data:\n",
    "    print(get_degree(vp1, j))"
   ]
  },
  {
   "cell_type": "code",
   "execution_count": 26,
   "id": "dfd8cb7d",
   "metadata": {},
   "outputs": [
    {
     "name": "stdout",
     "output_type": "stream",
     "text": [
      "0.0\n",
      "0.0\n",
      "0.0\n"
     ]
    }
   ],
   "source": [
    "for i,j in zip(json_data, npz_data):\n",
    "    print(get_degree(i,j))"
   ]
  },
  {
   "cell_type": "code",
   "execution_count": 31,
   "id": "0934610b",
   "metadata": {},
   "outputs": [],
   "source": [
    "vp2 = [231, 246, 2.1875 * 256]\n",
    "gt = [([-0.05008141,  0.01662795,  0.99860671]), \n",
    "      ([9.98745139e-01, 8.33797578e-04, 5.00744691e-02]), \n",
    "      ([-0.        , -0.9998614 ,  0.01664884])]"
   ]
  },
  {
   "cell_type": "code",
   "execution_count": 32,
   "id": "7d874cd3",
   "metadata": {},
   "outputs": [
    {
     "data": {
      "text/plain": [
       "array([ 78.06857845, 119.39737852,  77.12587792])"
      ]
     },
     "execution_count": 32,
     "metadata": {},
     "output_type": "execute_result"
    }
   ],
   "source": [
    "get_degree(vp2, gt)"
   ]
  },
  {
   "cell_type": "markdown",
   "id": "3963828a",
   "metadata": {},
   "source": [
    "### 다시\n",
    "보니까 몇 가지 문제가 있는데,\n",
    "1. 일단 roadtheta 카메라의 focal length는 2.1875 * 256이 아니다.\n",
    " - focal length는 이미지 해상도에 따라 바뀌기 때문에 시야각으로 표현하는게 더 좋다.\n",
    " - roadtheta 카메라의 수평 시야각은 82.1도이다.\n",
    " - 이를 focal length로 변환하면 f = (img_w/2) / tan(deg2rad(82,1)/2) 가 된다.\n",
    "2. vp랑 gt랑 각도 구할 때, vp를 카메라좌표로 변환한 후에 각도를 계산해야 한다.\n",
    " - vp = [231 - cx, 246 - cy, f]\n",
    " - gt도 카메라 좌표계로 변경해 줘야 한다 (gt_camera)\n",
    " - gt_camera = [gt(1) -gt(2) gt(3)]\n",
    "3. gt의 z좌표가 음수일 때에는 gt의 부호를 바꿔줘야 한다\n",
    " - if gt(3)<0, gt = -gt; end (cvpr 논문에 있는 것처럼)\n",
    " - 부호를 바꾸지 않으면 gt와 vp가 같은 방향인 경우 사잇각이 180도가 나오게 된다.\n",
    " - ray의 진행방향이 반대가 되기 때문\n",
    "\n",
    "내가 계산해 보니 22번 영상의 사잇각은 2.2212 degree 가 나온다."
   ]
  },
  {
   "cell_type": "code",
   "execution_count": 37,
   "id": "e93acd63",
   "metadata": {},
   "outputs": [
    {
     "name": "stdout",
     "output_type": "stream",
     "text": [
      "new focal length : -143.07748088121676\n"
     ]
    }
   ],
   "source": [
    "# roadtheta 수평시야각 82.1도 => 어떻게 계산.. su3  49.13으로 설정\n",
    "def deg2rad(x):\n",
    "    return x*180/np.pi\n",
    "\n",
    "img_w = 512\n",
    "\n",
    "f = (img_w/2)/np.tan(deg2rad(82.1)/2)\n",
    "print(f\"new focal length : {f}\")"
   ]
  },
  {
   "cell_type": "code",
   "execution_count": 66,
   "id": "4d308973",
   "metadata": {},
   "outputs": [],
   "source": [
    "# vp를 카메라좌표로 변환하여 각도계산해야함(cx, cy...)\n",
    "def img2camera(point,cx=256,cy=256, f= 2.1875 * 256):\n",
    "    new_vp = [point[0]-cx, point[1]-cy, f]\n",
    "    return new_vp\n",
    "\n",
    "def img2camera_gt(point,cx=256,cy=256):\n",
    "    if point[2]<0:\n",
    "        point[2] = -point[2]\n",
    "    new_gt = [point[0],-point[1],point[2]]\n",
    "    return new_gt"
   ]
  },
  {
   "cell_type": "code",
   "execution_count": 74,
   "id": "bc7e5aa9",
   "metadata": {},
   "outputs": [
    {
     "name": "stdout",
     "output_type": "stream",
     "text": [
      "vp : [-25, -10, 560.0], gt : [-0.05008141, -0.01662795, 0.99860671]\n",
      "0.32238182693032247\n",
      "vp : [-25, -10, 560.0], gt : [0.998745139, -0.000833797578, 0.0500744691]\n",
      "89.68509094111951\n",
      "vp : [-25, -10, 560.0], gt : [-0.0, 0.9998614, 0.01664884]\n",
      "90.06900913986972\n"
     ]
    }
   ],
   "source": [
    "vp2 = [231, 246, 2.1875 * 256]\n",
    "gt = [([-0.05008141,  0.01662795,  0.99860671]), \n",
    "      ([9.98745139e-01, 8.33797578e-04, 5.00744691e-02]), \n",
    "      ([-0.        , -0.9998614 ,  0.01664884])]\n",
    "\n",
    "for j in gt:\n",
    "    new_vp2 = img2camera(vp2,256,256)\n",
    "    new_gt = img2camera_gt(j)\n",
    "    print(f\"vp : {new_vp2}, gt : {new_gt}\")\n",
    "    print(get_degree(new_vp2, new_gt))"
   ]
  },
  {
   "cell_type": "code",
   "execution_count": 78,
   "id": "9b0d1700",
   "metadata": {},
   "outputs": [
    {
     "name": "stdout",
     "output_type": "stream",
     "text": [
      "vp : [-120, 19, 560.0], gt : [0.97606232, 0.00642975, 0.21739599]\n",
      "89.52640844950288\n",
      "vp : [-120, 19, 560.0], gt : [-0.21749105, 0.02885559, 0.97563569]\n",
      "0.5325704741312551\n",
      "vp : [-120, 19, 560.0], gt : [0.0, -0.99956291, 0.02956327]\n",
      "90.24359732801533\n"
     ]
    }
   ],
   "source": [
    "vp1 = [136, 275, 2.1875 * 256]\n",
    "\n",
    "json_data = [[ 0.97606232, -0.00642975,  0.21739599], \n",
    "         [-0.21749105, -0.02885559,  0.97563569],\n",
    "         [0.        , 0.99956291, 0.02956327]]\n",
    "\n",
    "npz_data = [[ 0.97606232, -0.00642975,  0.21739599],\n",
    "             [-0.21749105, -0.02885559,  0.97563569],\n",
    "             [ 0.      ,    0.99956291,  0.02956327]]\n",
    "\n",
    "for j in json_data:\n",
    "    new_vp1 = img2camera(vp1,256,256)\n",
    "    new_gt = img2camera_gt(j)\n",
    "    print(f\"vp : {new_vp1}, gt : {new_gt}\")\n",
    "    print(get_degree(new_vp1, new_gt))"
   ]
  },
  {
   "cell_type": "code",
   "execution_count": null,
   "id": "60692160",
   "metadata": {},
   "outputs": [],
   "source": []
  },
  {
   "cell_type": "code",
   "execution_count": null,
   "id": "78df29c2",
   "metadata": {},
   "outputs": [],
   "source": []
  },
  {
   "cell_type": "markdown",
   "id": "0683e053",
   "metadata": {},
   "source": [
    "## Test"
   ]
  },
  {
   "cell_type": "code",
   "execution_count": 10,
   "id": "47b96327",
   "metadata": {},
   "outputs": [
    {
     "data": {
      "text/plain": [
       "1.0000000053384626"
      ]
     },
     "execution_count": 10,
     "metadata": {},
     "output_type": "execute_result"
    }
   ],
   "source": [
    "# 기존 gt 값들은 정규화 평면에 있는 것임\n",
    "gt_norm = np.linalg.norm(json_data[0])\n",
    "gt_norm"
   ]
  },
  {
   "cell_type": "code",
   "execution_count": 15,
   "id": "e4b859ff",
   "metadata": {},
   "outputs": [
    {
     "data": {
      "text/plain": [
       "[249.87195392, -1.646016, 55.65337344]"
      ]
     },
     "execution_count": 15,
     "metadata": {},
     "output_type": "execute_result"
    }
   ],
   "source": [
    "# 정규화 평면에 있는 것을 이미지 평면으로 옮기게 되면\n",
    "gt_image_plane = [j*256 for j in json_data[0]]\n",
    "gt_image_plane"
   ]
  },
  {
   "cell_type": "code",
   "execution_count": null,
   "id": "d17451d2",
   "metadata": {},
   "outputs": [],
   "source": []
  }
 ],
 "metadata": {
  "kernelspec": {
   "display_name": "Python 3 (ipykernel)",
   "language": "python",
   "name": "python3"
  },
  "language_info": {
   "codemirror_mode": {
    "name": "ipython",
    "version": 3
   },
   "file_extension": ".py",
   "mimetype": "text/x-python",
   "name": "python",
   "nbconvert_exporter": "python",
   "pygments_lexer": "ipython3",
   "version": "3.8.5"
  }
 },
 "nbformat": 4,
 "nbformat_minor": 5
}
