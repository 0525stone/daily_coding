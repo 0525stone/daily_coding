{
 "cells": [
  {
   "cell_type": "code",
   "execution_count": 1,
   "id": "4676da7c",
   "metadata": {},
   "outputs": [],
   "source": [
    "import numpy as np\n",
    "import cv2\n",
    "import matplotlib.pyplot as plt"
   ]
  },
  {
   "cell_type": "code",
   "execution_count": 2,
   "id": "1ef91711",
   "metadata": {},
   "outputs": [],
   "source": [
    "vp1 = [136.6, 275.3, 560.0]\n",
    "\n",
    "json_data = [[ 0.97606232, -0.00642975,  0.21739599], \n",
    "         [-0.21749105, -0.02885559,  0.97563569],\n",
    "         [0.        , 0.99956291, 0.02956327]]\n",
    "\n",
    "npz_data = [[ 0.97606232, -0.00642975,  0.21739599],\n",
    "             [-0.21749105, -0.02885559,  0.97563569],\n",
    "             [ 0.      ,    0.99956291,  0.02956327]]"
   ]
  },
  {
   "cell_type": "code",
   "execution_count": 16,
   "id": "a0c1bba4",
   "metadata": {},
   "outputs": [],
   "source": [
    "def dot_product(vec1, vec2):\n",
    "    result_dot = np.dot(vec1, vec2)\n",
    "    return result_dot\n",
    "\n",
    "def get_degree(vec1, vec2):\n",
    "    vp_norm = np.linalg.norm(vec1)\n",
    "    json_norm = np.linalg.norm(vec2)\n",
    "    vp_json = dot_product(vec1, vec2)/vp_norm/json_norm\n",
    "\n",
    "    degree = np.arccos(vp_json)\n",
    "    return degree*180/np.pi"
   ]
  },
  {
   "cell_type": "code",
   "execution_count": 17,
   "id": "3b471f30",
   "metadata": {},
   "outputs": [
    {
     "data": {
      "text/plain": [
       "0.48717861916441"
      ]
     },
     "execution_count": 17,
     "metadata": {},
     "output_type": "execute_result"
    }
   ],
   "source": [
    "# degree 34.27\n",
    "data1 = [417,207]\n",
    "data2 = [424,206]\n",
    "\n",
    "get_degree(data1, data2)"
   ]
  },
  {
   "cell_type": "code",
   "execution_count": 18,
   "id": "95b46fb4",
   "metadata": {},
   "outputs": [
    {
     "data": {
      "text/plain": [
       "0.4705056486076437"
      ]
     },
     "execution_count": 18,
     "metadata": {},
     "output_type": "execute_result"
    }
   ],
   "source": [
    "data1 = [417,207, 2.1875*256]\n",
    "data2 = [424,206, 2.1875*256]\n",
    "\n",
    "get_degree(data1, data2)"
   ]
  },
  {
   "cell_type": "code",
   "execution_count": 19,
   "id": "454570c7",
   "metadata": {},
   "outputs": [
    {
     "data": {
      "text/plain": [
       "22.818112170952315"
      ]
     },
     "execution_count": 19,
     "metadata": {},
     "output_type": "execute_result"
    }
   ],
   "source": [
    "gt = [0.28681979, 0.0835354,  0.9543355 ] \n",
    "pred = [417.3, 207.0, 2.1875*256]\n",
    "get_degree(gt, pred)"
   ]
  },
  {
   "cell_type": "markdown",
   "id": "e312837f",
   "metadata": {},
   "source": [
    "### 바로 확인해보기"
   ]
  },
  {
   "cell_type": "code",
   "execution_count": 21,
   "id": "96f8c8c3",
   "metadata": {},
   "outputs": [
    {
     "data": {
      "text/plain": [
       "4.207699855737857"
      ]
     },
     "execution_count": 21,
     "metadata": {},
     "output_type": "execute_result"
    }
   ],
   "source": [
    "data1 = [231, 246, 2.1875*256]\n",
    "data2 = [284, 265, 2.1875*256]\n",
    "\n",
    "get_degree(data1, data2)"
   ]
  },
  {
   "cell_type": "code",
   "execution_count": null,
   "id": "53af6114",
   "metadata": {},
   "outputs": [],
   "source": [
    "data1 = [417, 207, 2.1875*256]\n",
    "data2 = [424, 206, 2.1875*256]\n",
    "\n",
    "get_degree(data1, data2)"
   ]
  },
  {
   "cell_type": "code",
   "execution_count": 22,
   "id": "3811f51d",
   "metadata": {},
   "outputs": [
    {
     "data": {
      "text/plain": [
       "37.93177521900293"
      ]
     },
     "execution_count": 22,
     "metadata": {},
     "output_type": "execute_result"
    }
   ],
   "source": [
    "data1 = [493, -114, 2.1875*256]\n",
    "data2 = [256, -588, 2.1875*256]\n",
    "\n",
    "get_degree(data1, data2)"
   ]
  },
  {
   "cell_type": "code",
   "execution_count": 26,
   "id": "7c7bfe53",
   "metadata": {},
   "outputs": [
    {
     "data": {
      "text/plain": [
       "0.5743044974798942"
      ]
     },
     "execution_count": 26,
     "metadata": {},
     "output_type": "execute_result"
    }
   ],
   "source": [
    "data1 = [136-256, 275-256, 2.1875*256]\n",
    "data2 = [131-256, 272-256, 2.1875*256]\n",
    "\n",
    "get_degree(data1, data2)"
   ]
  },
  {
   "cell_type": "code",
   "execution_count": 25,
   "id": "67adefd1",
   "metadata": {},
   "outputs": [
    {
     "data": {
      "text/plain": [
       "3.6231567663216917"
      ]
     },
     "execution_count": 25,
     "metadata": {},
     "output_type": "execute_result"
    }
   ],
   "source": [
    "data1 = [-0.21749105, -0.02885559 , 0.97563569]\n",
    "data2 = [136.6-256, 275.3-256, 2.1875*256]\n",
    "\n",
    "get_degree(data1, data2)"
   ]
  },
  {
   "cell_type": "code",
   "execution_count": null,
   "id": "7f7d3f9b",
   "metadata": {},
   "outputs": [],
   "source": [
    "data1 = [417, 207, 2.1875*256]\n",
    "data2 = [424, 206, 2.1875*256]\n",
    "\n",
    "get_degree(data1, data2)"
   ]
  },
  {
   "cell_type": "code",
   "execution_count": null,
   "id": "2b8e24ae",
   "metadata": {},
   "outputs": [],
   "source": [
    "data1 = [417, 207, 2.1875*256]\n",
    "data2 = [424, 206, 2.1875*256]\n",
    "\n",
    "get_degree(data1, data2)"
   ]
  },
  {
   "cell_type": "markdown",
   "id": "18e5f095",
   "metadata": {},
   "source": [
    "### 230602 hfov"
   ]
  },
  {
   "cell_type": "code",
   "execution_count": 4,
   "id": "4f4c3d6c",
   "metadata": {},
   "outputs": [],
   "source": [
    "# horizontal field of view angle of camera (unit: degree), logitech c930e\n",
    "hfov = 82.1 # etridataset\n",
    "\n",
    "hfov = 49.134342641202629     # SU3 dataset\n",
    "\n",
    "hfov = 90 #  flickr dataset"
   ]
  },
  {
   "cell_type": "code",
   "execution_count": 14,
   "id": "d8a53c44",
   "metadata": {},
   "outputs": [],
   "source": [
    "def rad2deg(radi):\n",
    "    return radi*180/np.pi\n",
    "\n",
    "def deg2rad(deg):\n",
    "    return np.pi*deg/180\n",
    "#\n",
    "# hfov_deg = rad2deg(np.arctan(img_w/2/f)*2)\n",
    "hfov = 82.1\n",
    "\n",
    "img_w = 1280\n",
    "f = img_w/2/np.arctan(deg2rad(hfov/2))"
   ]
  },
  {
   "cell_type": "code",
   "execution_count": 15,
   "id": "5f6d7e31",
   "metadata": {},
   "outputs": [
    {
     "data": {
      "text/plain": [
       "1029.4582899424072"
      ]
     },
     "execution_count": 15,
     "metadata": {},
     "output_type": "execute_result"
    }
   ],
   "source": [
    "f"
   ]
  },
  {
   "cell_type": "code",
   "execution_count": 12,
   "id": "b73ca094",
   "metadata": {},
   "outputs": [
    {
     "data": {
      "text/plain": [
       "180.0"
      ]
     },
     "execution_count": 12,
     "metadata": {},
     "output_type": "execute_result"
    }
   ],
   "source": [
    "rad2deg(np.pi)"
   ]
  },
  {
   "cell_type": "code",
   "execution_count": 13,
   "id": "b597f14a",
   "metadata": {},
   "outputs": [
    {
     "data": {
      "text/plain": [
       "3.141592653589793"
      ]
     },
     "execution_count": 13,
     "metadata": {},
     "output_type": "execute_result"
    }
   ],
   "source": [
    "deg2rad(180)"
   ]
  },
  {
   "cell_type": "code",
   "execution_count": null,
   "id": "064b9634",
   "metadata": {},
   "outputs": [],
   "source": [
    "구조화\n",
    "일반화\n",
    "\n",
    "개선"
   ]
  },
  {
   "cell_type": "code",
   "execution_count": null,
   "id": "20f50541",
   "metadata": {},
   "outputs": [],
   "source": []
  },
  {
   "cell_type": "code",
   "execution_count": null,
   "id": "b8629666",
   "metadata": {},
   "outputs": [],
   "source": []
  },
  {
   "cell_type": "code",
   "execution_count": null,
   "id": "c2f45114",
   "metadata": {},
   "outputs": [],
   "source": []
  },
  {
   "cell_type": "markdown",
   "id": "50ef3e02",
   "metadata": {},
   "source": [
    "### earlier"
   ]
  },
  {
   "cell_type": "code",
   "execution_count": 22,
   "id": "3e6a6e0f",
   "metadata": {},
   "outputs": [
    {
     "data": {
      "text/plain": [
       "66.63824783844457"
      ]
     },
     "execution_count": 22,
     "metadata": {},
     "output_type": "execute_result"
    }
   ],
   "source": [
    "get_degree(vp1, json_data[0])"
   ]
  },
  {
   "cell_type": "code",
   "execution_count": 24,
   "id": "4eb10d2b",
   "metadata": {},
   "outputs": [
    {
     "name": "stdout",
     "output_type": "stream",
     "text": [
      "66.63824783844457\n",
      "37.216420031549276\n",
      "62.82555217195277\n"
     ]
    }
   ],
   "source": [
    "for j in json_data:\n",
    "    print(get_degree(vp1, j))"
   ]
  },
  {
   "cell_type": "code",
   "execution_count": 25,
   "id": "2c377cf5",
   "metadata": {},
   "outputs": [
    {
     "name": "stdout",
     "output_type": "stream",
     "text": [
      "66.63824783844457\n",
      "37.216420031549276\n",
      "62.82555217195277\n"
     ]
    }
   ],
   "source": [
    "for j in npz_data:\n",
    "    print(get_degree(vp1, j))"
   ]
  },
  {
   "cell_type": "code",
   "execution_count": 26,
   "id": "d054d409",
   "metadata": {},
   "outputs": [
    {
     "name": "stdout",
     "output_type": "stream",
     "text": [
      "0.0\n",
      "0.0\n",
      "0.0\n"
     ]
    }
   ],
   "source": [
    "for i,j in zip(json_data, npz_data):\n",
    "    print(get_degree(i,j))"
   ]
  },
  {
   "cell_type": "code",
   "execution_count": 31,
   "id": "47d55b96",
   "metadata": {},
   "outputs": [],
   "source": [
    "vp2 = [231, 246, 2.1875 * 256]\n",
    "gt = [([-0.05008141,  0.01662795,  0.99860671]), \n",
    "      ([9.98745139e-01, 8.33797578e-04, 5.00744691e-02]), \n",
    "      ([-0.        , -0.9998614 ,  0.01664884])]"
   ]
  },
  {
   "cell_type": "code",
   "execution_count": 32,
   "id": "33858020",
   "metadata": {},
   "outputs": [
    {
     "data": {
      "text/plain": [
       "array([ 78.06857845, 119.39737852,  77.12587792])"
      ]
     },
     "execution_count": 32,
     "metadata": {},
     "output_type": "execute_result"
    }
   ],
   "source": [
    "get_degree(vp2, gt)"
   ]
  },
  {
   "cell_type": "markdown",
   "id": "26cff7f5",
   "metadata": {},
   "source": [
    "### 다시\n",
    "보니까 몇 가지 문제가 있는데,\n",
    "1. 일단 roadtheta 카메라의 focal length는 2.1875 * 256이 아니다.\n",
    " - focal length는 이미지 해상도에 따라 바뀌기 때문에 시야각으로 표현하는게 더 좋다.\n",
    " - roadtheta 카메라의 수평 시야각은 82.1도이다.\n",
    " - 이를 focal length로 변환하면 f = (img_w/2) / tan(deg2rad(82,1)/2) 가 된다.\n",
    "2. vp랑 gt랑 각도 구할 때, vp를 카메라좌표로 변환한 후에 각도를 계산해야 한다.\n",
    " - vp = [231 - cx, 246 - cy, f]\n",
    " - gt도 카메라 좌표계로 변경해 줘야 한다 (gt_camera)\n",
    " - gt_camera = [gt(1) -gt(2) gt(3)]\n",
    "3. gt의 z좌표가 음수일 때에는 gt의 부호를 바꿔줘야 한다\n",
    " - if gt(3)<0, gt = -gt; end (cvpr 논문에 있는 것처럼)\n",
    " - 부호를 바꾸지 않으면 gt와 vp가 같은 방향인 경우 사잇각이 180도가 나오게 된다.\n",
    " - ray의 진행방향이 반대가 되기 때문\n",
    "\n",
    "내가 계산해 보니 22번 영상의 사잇각은 2.2212 degree 가 나온다."
   ]
  },
  {
   "cell_type": "code",
   "execution_count": 37,
   "id": "e4f97e9d",
   "metadata": {},
   "outputs": [
    {
     "name": "stdout",
     "output_type": "stream",
     "text": [
      "new focal length : -143.07748088121676\n"
     ]
    }
   ],
   "source": [
    "# roadtheta 수평시야각 82.1도 => 어떻게 계산.. su3  49.13으로 설정\n",
    "def deg2rad(x):\n",
    "    return x*180/np.pi\n",
    "\n",
    "img_w = 512\n",
    "\n",
    "f = (img_w/2)/np.tan(deg2rad(82.1)/2)\n",
    "print(f\"new focal length : {f}\")"
   ]
  },
  {
   "cell_type": "code",
   "execution_count": 66,
   "id": "ddf2758d",
   "metadata": {},
   "outputs": [],
   "source": [
    "# vp를 카메라좌표로 변환하여 각도계산해야함(cx, cy...)\n",
    "def img2camera(point,cx=256,cy=256, f= 2.1875 * 256):\n",
    "    new_vp = [point[0]-cx, point[1]-cy, f]\n",
    "    return new_vp\n",
    "\n",
    "def img2camera_gt(point,cx=256,cy=256):\n",
    "    if point[2]<0:\n",
    "        point[2] = -point[2]\n",
    "    new_gt = [point[0],-point[1],point[2]]\n",
    "    return new_gt"
   ]
  },
  {
   "cell_type": "code",
   "execution_count": 74,
   "id": "1de8c767",
   "metadata": {},
   "outputs": [
    {
     "name": "stdout",
     "output_type": "stream",
     "text": [
      "vp : [-25, -10, 560.0], gt : [-0.05008141, -0.01662795, 0.99860671]\n",
      "0.32238182693032247\n",
      "vp : [-25, -10, 560.0], gt : [0.998745139, -0.000833797578, 0.0500744691]\n",
      "89.68509094111951\n",
      "vp : [-25, -10, 560.0], gt : [-0.0, 0.9998614, 0.01664884]\n",
      "90.06900913986972\n"
     ]
    }
   ],
   "source": [
    "vp2 = [231, 246, 2.1875 * 256]\n",
    "gt = [([-0.05008141,  0.01662795,  0.99860671]), \n",
    "      ([9.98745139e-01, 8.33797578e-04, 5.00744691e-02]), \n",
    "      ([-0.        , -0.9998614 ,  0.01664884])]\n",
    "\n",
    "for j in gt:\n",
    "    new_vp2 = img2camera(vp2,256,256)\n",
    "    new_gt = img2camera_gt(j)\n",
    "    print(f\"vp : {new_vp2}, gt : {new_gt}\")\n",
    "    print(get_degree(new_vp2, new_gt))"
   ]
  },
  {
   "cell_type": "code",
   "execution_count": 78,
   "id": "057fb0ad",
   "metadata": {},
   "outputs": [
    {
     "name": "stdout",
     "output_type": "stream",
     "text": [
      "vp : [-120, 19, 560.0], gt : [0.97606232, 0.00642975, 0.21739599]\n",
      "89.52640844950288\n",
      "vp : [-120, 19, 560.0], gt : [-0.21749105, 0.02885559, 0.97563569]\n",
      "0.5325704741312551\n",
      "vp : [-120, 19, 560.0], gt : [0.0, -0.99956291, 0.02956327]\n",
      "90.24359732801533\n"
     ]
    }
   ],
   "source": [
    "vp1 = [136, 275, 2.1875 * 256]\n",
    "\n",
    "json_data = [[ 0.97606232, -0.00642975,  0.21739599], \n",
    "         [-0.21749105, -0.02885559,  0.97563569],\n",
    "         [0.        , 0.99956291, 0.02956327]]\n",
    "\n",
    "npz_data = [[ 0.97606232, -0.00642975,  0.21739599],\n",
    "             [-0.21749105, -0.02885559,  0.97563569],\n",
    "             [ 0.      ,    0.99956291,  0.02956327]]\n",
    "\n",
    "for j in json_data:\n",
    "    new_vp1 = img2camera(vp1,256,256)\n",
    "    new_gt = img2camera_gt(j)\n",
    "    print(f\"vp : {new_vp1}, gt : {new_gt}\")\n",
    "    print(get_degree(new_vp1, new_gt))"
   ]
  },
  {
   "cell_type": "code",
   "execution_count": null,
   "id": "00b3a5ef",
   "metadata": {},
   "outputs": [],
   "source": []
  },
  {
   "cell_type": "code",
   "execution_count": null,
   "id": "28634c66",
   "metadata": {},
   "outputs": [],
   "source": []
  },
  {
   "cell_type": "markdown",
   "id": "5cd3e515",
   "metadata": {},
   "source": [
    "## Test"
   ]
  },
  {
   "cell_type": "code",
   "execution_count": 10,
   "id": "c2decf03",
   "metadata": {},
   "outputs": [
    {
     "data": {
      "text/plain": [
       "1.0000000053384626"
      ]
     },
     "execution_count": 10,
     "metadata": {},
     "output_type": "execute_result"
    }
   ],
   "source": [
    "# 기존 gt 값들은 정규화 평면에 있는 것임\n",
    "gt_norm = np.linalg.norm(json_data[0])\n",
    "gt_norm"
   ]
  },
  {
   "cell_type": "code",
   "execution_count": 15,
   "id": "277071e3",
   "metadata": {},
   "outputs": [
    {
     "data": {
      "text/plain": [
       "[249.87195392, -1.646016, 55.65337344]"
      ]
     },
     "execution_count": 15,
     "metadata": {},
     "output_type": "execute_result"
    }
   ],
   "source": [
    "# 정규화 평면에 있는 것을 이미지 평면으로 옮기게 되면\n",
    "gt_image_plane = [j*256 for j in json_data[0]]\n",
    "gt_image_plane"
   ]
  },
  {
   "cell_type": "code",
   "execution_count": null,
   "id": "4eaf51e2",
   "metadata": {},
   "outputs": [],
   "source": []
  }
 ],
 "metadata": {
  "kernelspec": {
   "display_name": "Python 3 (ipykernel)",
   "language": "python",
   "name": "python3"
  },
  "language_info": {
   "codemirror_mode": {
    "name": "ipython",
    "version": 3
   },
   "file_extension": ".py",
   "mimetype": "text/x-python",
   "name": "python",
   "nbconvert_exporter": "python",
   "pygments_lexer": "ipython3",
   "version": "3.8.5"
  }
 },
 "nbformat": 4,
 "nbformat_minor": 5
}
